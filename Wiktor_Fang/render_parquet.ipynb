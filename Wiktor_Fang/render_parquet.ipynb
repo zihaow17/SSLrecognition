{
 "cells": [
  {
   "cell_type": "code",
   "execution_count": 1,
   "metadata": {},
   "outputs": [
    {
     "name": "stderr",
     "output_type": "stream",
     "text": [
      "c:\\Users\\zorko\\anaconda3\\envs\\IS460MLApps\\lib\\site-packages\\torchvision\\io\\image.py:13: UserWarning: Failed to load image Python extension: '[WinError 127] The specified procedure could not be found'If you don't plan on using image functionality from `torchvision.io`, you can ignore this warning. Otherwise, there might be something wrong with your environment. Did you have `libjpeg` or `libpng` installed before building `torchvision` from source?\n",
      "  warn(\n"
     ]
    }
   ],
   "source": [
    "import numpy as np\n",
    "import pandas as pd\n",
    "from fastai.vision.all import show_image\n",
    "\n",
    "from ipywidgets import interact\n",
    "import ipywidgets as widgets\n",
    "\n",
    "import mediapipe as mp\n",
    "from mediapipe.framework.formats import landmark_pb2\n",
    "\n",
    "from average_parquet import Averager\n",
    "\n",
    "mp_drawing = mp.solutions.drawing_utils\n",
    "mp_drawing_styles = mp.solutions.drawing_styles\n",
    "mp_holistic = mp.solutions.holistic"
   ]
  },
  {
   "cell_type": "code",
   "execution_count": 8,
   "metadata": {},
   "outputs": [],
   "source": [
    "def draw_landmarks(landmarks,image,show_pose=True,show_face_contour=False,show_face_tesselation=False,show_left_hand=True,show_right_hand=True):\n",
    "    annotated_image = image.copy()\n",
    "    results = landmarks\n",
    "    if show_face_tesselation:\n",
    "        mp_drawing.draw_landmarks(\n",
    "            annotated_image,\n",
    "            results.face_landmarks,\n",
    "            mp_holistic.FACEMESH_TESSELATION,\n",
    "            landmark_drawing_spec=None,\n",
    "            connection_drawing_spec=mp_drawing_styles\n",
    "            .get_default_face_mesh_tesselation_style())\n",
    "    if show_face_contour:\n",
    "        mp_drawing.draw_landmarks(\n",
    "            annotated_image,\n",
    "            results.face_landmarks,\n",
    "            mp_holistic.FACEMESH_CONTOURS,\n",
    "            landmark_drawing_spec=None,\n",
    "            connection_drawing_spec=mp_drawing_styles\n",
    "            .get_default_face_mesh_contours_style())\n",
    "    if show_pose:\n",
    "        mp_drawing.draw_landmarks(\n",
    "            annotated_image,\n",
    "            results.pose_landmarks,\n",
    "            mp_holistic.POSE_CONNECTIONS,\n",
    "            landmark_drawing_spec=mp_drawing_styles.\n",
    "            get_default_pose_landmarks_style())\n",
    "    if show_left_hand:\n",
    "        mp_drawing.draw_landmarks(\n",
    "            annotated_image,\n",
    "            results.left_hand_landmarks,\n",
    "            mp_holistic.HAND_CONNECTIONS,\n",
    "            landmark_drawing_spec=mp_drawing_styles\n",
    "            .get_default_hand_landmarks_style())\n",
    "    if show_right_hand:\n",
    "        mp_drawing.draw_landmarks(\n",
    "            annotated_image,\n",
    "            results.right_hand_landmarks,\n",
    "            mp_holistic.HAND_CONNECTIONS,\n",
    "            landmark_drawing_spec=mp_drawing_styles\n",
    "            .get_default_hand_landmarks_style())\n",
    "    return annotated_image"
   ]
  },
  {
   "cell_type": "code",
   "execution_count": 3,
   "metadata": {},
   "outputs": [],
   "source": [
    "from os import listdir\n",
    "from os.path import isfile, join\n",
    "\n",
    "\n",
    "folder = \"orange/\"\n",
    "path = \"./asl-kaggle/by_labels/\"+folder\n",
    "save_path = \"./asl-kaggle/averaged_by_labels/\"+folder\n",
    "parquets = [f for f in listdir(path) if isfile(join(path, f))]"
   ]
  },
  {
   "cell_type": "code",
   "execution_count": 4,
   "metadata": {},
   "outputs": [
    {
     "data": {
      "text/plain": [
       "390"
      ]
     },
     "execution_count": 4,
     "metadata": {},
     "output_type": "execute_result"
    }
   ],
   "source": [
    "len(parquets)"
   ]
  },
  {
   "cell_type": "code",
   "execution_count": 5,
   "metadata": {},
   "outputs": [],
   "source": [
    "# parquets[234:]"
   ]
  },
  {
   "cell_type": "code",
   "execution_count": 6,
   "metadata": {},
   "outputs": [],
   "source": [
    "for parquet in parquets:\n",
    "    parquet_path = path+parquet\n",
    "    pf = pd.read_parquet(parquet_path)\n",
    "\n",
    "    avgr = Averager(pf)\n",
    "    new_pf = avgr.average_pf()\n",
    "\n",
    "    new_pf.to_parquet(save_path+parquet)"
   ]
  },
  {
   "cell_type": "code",
   "execution_count": 60,
   "metadata": {},
   "outputs": [
    {
     "data": {
      "text/html": [
       "<div>\n",
       "<style scoped>\n",
       "    .dataframe tbody tr th:only-of-type {\n",
       "        vertical-align: middle;\n",
       "    }\n",
       "\n",
       "    .dataframe tbody tr th {\n",
       "        vertical-align: top;\n",
       "    }\n",
       "\n",
       "    .dataframe thead th {\n",
       "        text-align: right;\n",
       "    }\n",
       "</style>\n",
       "<table border=\"1\" class=\"dataframe\">\n",
       "  <thead>\n",
       "    <tr style=\"text-align: right;\">\n",
       "      <th></th>\n",
       "      <th>frame</th>\n",
       "      <th>row_id</th>\n",
       "      <th>type</th>\n",
       "      <th>landmark_index</th>\n",
       "      <th>x</th>\n",
       "      <th>y</th>\n",
       "      <th>z</th>\n",
       "    </tr>\n",
       "  </thead>\n",
       "  <tbody>\n",
       "    <tr>\n",
       "      <th>0</th>\n",
       "      <td>14</td>\n",
       "      <td>14-face-0</td>\n",
       "      <td>face</td>\n",
       "      <td>0</td>\n",
       "      <td>0.480925</td>\n",
       "      <td>0.520614</td>\n",
       "      <td>-0.039797</td>\n",
       "    </tr>\n",
       "    <tr>\n",
       "      <th>1</th>\n",
       "      <td>14</td>\n",
       "      <td>14-face-1</td>\n",
       "      <td>face</td>\n",
       "      <td>1</td>\n",
       "      <td>0.471885</td>\n",
       "      <td>0.486111</td>\n",
       "      <td>-0.057065</td>\n",
       "    </tr>\n",
       "    <tr>\n",
       "      <th>2</th>\n",
       "      <td>14</td>\n",
       "      <td>14-face-2</td>\n",
       "      <td>face</td>\n",
       "      <td>2</td>\n",
       "      <td>0.476459</td>\n",
       "      <td>0.498150</td>\n",
       "      <td>-0.034013</td>\n",
       "    </tr>\n",
       "    <tr>\n",
       "      <th>3</th>\n",
       "      <td>14</td>\n",
       "      <td>14-face-3</td>\n",
       "      <td>face</td>\n",
       "      <td>3</td>\n",
       "      <td>0.463271</td>\n",
       "      <td>0.460442</td>\n",
       "      <td>-0.034678</td>\n",
       "    </tr>\n",
       "    <tr>\n",
       "      <th>4</th>\n",
       "      <td>14</td>\n",
       "      <td>14-face-4</td>\n",
       "      <td>face</td>\n",
       "      <td>4</td>\n",
       "      <td>0.470690</td>\n",
       "      <td>0.477398</td>\n",
       "      <td>-0.058757</td>\n",
       "    </tr>\n",
       "  </tbody>\n",
       "</table>\n",
       "</div>"
      ],
      "text/plain": [
       "   frame     row_id  type  landmark_index         x         y         z\n",
       "0     14  14-face-0  face               0  0.480925  0.520614 -0.039797\n",
       "1     14  14-face-1  face               1  0.471885  0.486111 -0.057065\n",
       "2     14  14-face-2  face               2  0.476459  0.498150 -0.034013\n",
       "3     14  14-face-3  face               3  0.463271  0.460442 -0.034678\n",
       "4     14  14-face-4  face               4  0.470690  0.477398 -0.058757"
      ]
     },
     "execution_count": 60,
     "metadata": {},
     "output_type": "execute_result"
    }
   ],
   "source": [
    "path = \"./asl-kaggle/by_labels/orange/3390063927.parquet\"\n",
    "pf = pd.read_parquet(path)\n",
    "pf.head()"
   ]
  },
  {
   "cell_type": "code",
   "execution_count": 20,
   "metadata": {},
   "outputs": [],
   "source": [
    "points_types = pf['type'].unique()\n",
    "points_types_lens = {}\n",
    "cnt_frames = max(pf['frame']) - min(pf['frame'])\n",
    "\n",
    "pf = pf.fillna(-1)\n",
    "\n",
    "for point_type in points_types:\n",
    "    frames_for_type = len(pf['frame'].loc[(pf.type==point_type) & (pf.x > 0)].unique())\n",
    "    if frames_for_type < int(cnt_frames/10):\n",
    "        pf.loc[pf['type']==point_type, 'x'] = np.nan\n",
    "        pf.loc[pf['type']==point_type, 'y'] = np.nan\n",
    "        pf.loc[pf['type']==point_type, 'z'] = np.nan"
   ]
  },
  {
   "cell_type": "code",
   "execution_count": 21,
   "metadata": {},
   "outputs": [
    {
     "data": {
      "text/plain": [
       "126"
      ]
     },
     "execution_count": 21,
     "metadata": {},
     "output_type": "execute_result"
    }
   ],
   "source": [
    "# pf = pf.fillna(-1)\n",
    "nas_indexes = list(pf.loc[pf['x'] < 0].index)\n",
    "len(nas_indexes)"
   ]
  },
  {
   "cell_type": "code",
   "execution_count": 22,
   "metadata": {},
   "outputs": [],
   "source": [
    "nas_dict = {}\n",
    "\n",
    "for idx in nas_indexes:\n",
    "    row = pf.iloc[idx]\n",
    "\n",
    "    frame = row.frame\n",
    "    pt_type = row.type\n",
    "    ldmrk_index = row.landmark_index\n",
    "\n",
    "    if frame in nas_dict.keys():\n",
    "        if pt_type in nas_dict[frame].keys():\n",
    "            nas_dict[frame][pt_type].append(ldmrk_index)\n",
    "        else:\n",
    "            nas_dict[frame][pt_type] = [ldmrk_index]\n",
    "    else:\n",
    "        nas_dict[frame] = {pt_type: [ldmrk_index]}"
   ]
  },
  {
   "cell_type": "code",
   "execution_count": 53,
   "metadata": {},
   "outputs": [],
   "source": [
    "next_positions_dict = {}\n",
    "for point_type in points_types:\n",
    "    next_positions_dict[point_type] = {\"x\": [], \"y\": [], \"z\": [], \"frame\": 0}"
   ]
  },
  {
   "cell_type": "code",
   "execution_count": 54,
   "metadata": {},
   "outputs": [],
   "source": [
    "def fetch_coords(frame, point_type, pf):\n",
    "    step_pf = pf.loc[(pf['frame']==frame) & (pf['type']==point_type)]\n",
    "    x, y, z = step_pf['x'], step_pf['y'], step_pf['z']\n",
    "    return x.values,y.values,z.values"
   ]
  },
  {
   "cell_type": "code",
   "execution_count": 55,
   "metadata": {},
   "outputs": [
    {
     "name": "stdout",
     "output_type": "stream",
     "text": [
      "0.08556842803955078\n"
     ]
    }
   ],
   "source": [
    "import time\n",
    "start = time.time()\n",
    "\n",
    "max_frame = max(pf.frame)\n",
    "min_frame = min(pf.frame)\n",
    "\n",
    "for frame in nas_dict.keys():\n",
    "    for pt_type in nas_dict[frame].keys():\n",
    "        lndmrks_pos = nas_dict[frame][pt_type]\n",
    "\n",
    "        if next_positions_dict[pt_type]['frame'] <= frame:\n",
    "            step = 1\n",
    "            while 1:\n",
    "                if frame+step <= max_frame:\n",
    "                    next_x, next_y, next_z = fetch_coords(frame+step, pt_type, pf)\n",
    "                else:\n",
    "                    if frame == min_frame:\n",
    "                        next_x = next_y = next_z = [-1 for i in range(max(pf['landmark_index'].loc[pf.type==pt_type])+1)]\n",
    "                    else:\n",
    "                        next_x = pd.Series([]).values\n",
    "                        j_step = 1\n",
    "                        while next_x.size == 0:\n",
    "                            next_x, next_y, next_z = fetch_coords(frame-j_step, pt_type, pf)\n",
    "                            j_step += 1\n",
    "\n",
    "                    next_positions_dict[pt_type][\"x\"] = next_x\n",
    "                    next_positions_dict[pt_type][\"y\"] = next_y\n",
    "                    next_positions_dict[pt_type][\"z\"] = next_z\n",
    "                    next_positions_dict[pt_type][\"frame\"] = max_frame\n",
    "                    break\n",
    "\n",
    "                if (next_x < 0).all() or next_x.size == 0:\n",
    "                    step += 1\n",
    "                else:\n",
    "                    next_positions_dict[pt_type][\"x\"] = next_x\n",
    "                    next_positions_dict[pt_type][\"y\"] = next_y\n",
    "                    next_positions_dict[pt_type][\"z\"] = next_z\n",
    "                    next_positions_dict[pt_type][\"frame\"] = frame+step\n",
    "                    break\n",
    "        else:\n",
    "            next_x = next_positions_dict[pt_type][\"x\"]\n",
    "            next_y = next_positions_dict[pt_type][\"y\"]\n",
    "            next_z = next_positions_dict[pt_type][\"z\"]\n",
    "        \n",
    "        if frame == min_frame:\n",
    "            new_x = next_positions_dict[pt_type][\"x\"]\n",
    "            new_y = next_positions_dict[pt_type][\"y\"]\n",
    "            new_z = next_positions_dict[pt_type][\"z\"]\n",
    "        else:\n",
    "            prev_x = pd.Series([]).values\n",
    "\n",
    "            i_step = 1\n",
    "            while prev_x.size == 0:\n",
    "                prev_x, prev_y, prev_z = fetch_coords(frame-i_step, pt_type, pf)\n",
    "                i_step += 1\n",
    "\n",
    "            frame_diff = (next_positions_dict[pt_type][\"frame\"] - frame) + 1\n",
    "\n",
    "            new_x = prev_x + (next_x - prev_x)/frame_diff\n",
    "            new_y = prev_y + (next_y - prev_y)/frame_diff\n",
    "            new_z = prev_z + (next_z - prev_z)/frame_diff\n",
    "\n",
    "        pf.loc[(pf.frame == frame) & (pf.type == pt_type) & (pf.landmark_index.isin(nas_dict[frame][pt_type])), 'x'] = [new_x[i] for i in lndmrks_pos]\n",
    "        pf.loc[(pf.frame == frame) & (pf.type == pt_type) & (pf.landmark_index.isin(nas_dict[frame][pt_type])), 'y'] = [new_y[i] for i in lndmrks_pos]\n",
    "        pf.loc[(pf.frame == frame) & (pf.type == pt_type) & (pf.landmark_index.isin(nas_dict[frame][pt_type])), 'z'] = [new_z[i] for i in lndmrks_pos]\n",
    "\n",
    "end = time.time()\n",
    "print(end-start)\n"
   ]
  },
  {
   "cell_type": "code",
   "execution_count": 51,
   "metadata": {},
   "outputs": [
    {
     "data": {
      "text/plain": [
       "16"
      ]
     },
     "execution_count": 51,
     "metadata": {},
     "output_type": "execute_result"
    }
   ],
   "source": [
    "step"
   ]
  },
  {
   "cell_type": "code",
   "execution_count": 37,
   "metadata": {},
   "outputs": [
    {
     "data": {
      "text/plain": [
       "array([14, 15, 30, 31, 32], dtype=int16)"
      ]
     },
     "execution_count": 37,
     "metadata": {},
     "output_type": "execute_result"
    }
   ],
   "source": [
    "pf['frame'].loc[pf.type==\"left_hand\"].unique()"
   ]
  },
  {
   "cell_type": "code",
   "execution_count": 26,
   "metadata": {},
   "outputs": [
    {
     "data": {
      "text/plain": [
       "array([], dtype=float64)"
      ]
     },
     "execution_count": 26,
     "metadata": {},
     "output_type": "execute_result"
    }
   ],
   "source": [
    "prev_x"
   ]
  },
  {
   "cell_type": "code",
   "execution_count": 27,
   "metadata": {},
   "outputs": [
    {
     "data": {
      "text/plain": [
       "array([0.76933104, 0.70111138, 0.66704696, 0.64460373, 0.62384635,\n",
       "       0.69187999, 0.65423709, 0.61527538, 0.5912298 , 0.70276612,\n",
       "       0.65711647, 0.61764938, 0.59572554, 0.70827359, 0.66723889,\n",
       "       0.62784088, 0.60542893, 0.70814073, 0.67618811, 0.64423239,\n",
       "       0.62009048])"
      ]
     },
     "execution_count": 27,
     "metadata": {},
     "output_type": "execute_result"
    }
   ],
   "source": [
    "next_x"
   ]
  },
  {
   "cell_type": "code",
   "execution_count": 18,
   "metadata": {},
   "outputs": [
    {
     "data": {
      "text/plain": [
       "{'face': {'x': [], 'y': [], 'z': [], 'frame': 0},\n",
       " 'left_hand': {'x': [], 'y': [], 'z': [], 'frame': 0},\n",
       " 'pose': {'x': [], 'y': [], 'z': [], 'frame': 0},\n",
       " 'right_hand': {'x': [], 'y': [], 'z': [], 'frame': 0}}"
      ]
     },
     "execution_count": 18,
     "metadata": {},
     "output_type": "execute_result"
    }
   ],
   "source": [
    "next_positions_dict"
   ]
  },
  {
   "cell_type": "code",
   "execution_count": null,
   "metadata": {},
   "outputs": [],
   "source": [
    "# import time\n",
    "# start = time.time()\n",
    "\n",
    "# n_index = 0\n",
    "\n",
    "# while n_index < len(nas_indexes):\n",
    "#     index = nas_indexes[n_index]\n",
    "\n",
    "#     frame = pf['frame'].iloc[index]\n",
    "#     point_type = pf['type'].iloc[index]\n",
    "#     type_len = points_types_lens[point_type]\n",
    "\n",
    "#     count_steps = 0\n",
    "#     # next_x = pd.Series([np.nan]).values\n",
    "#     next_x = pd.Series([-1]).values\n",
    "\n",
    "#     # while np.isnan(next_x).any():\n",
    "#     while (next_x < 0).any() or next_x.size == 0:\n",
    "#         if frame+count_steps <= max_frame:\n",
    "#             next_x, next_y, next_z = step_fetch_coord(1, frame+count_steps, point_type, pf)\n",
    "#             count_steps += 1\n",
    "#         else:\n",
    "#             next_x, next_y, next_z = step_fetch_coord(-1, frame, point_type, pf)\n",
    "#             count_steps = 0\n",
    "#             break\n",
    "\n",
    "#     if frame != min_frame:\n",
    "#         prev_x, prev_y, prev_z = step_fetch_coord(-1, frame, point_type, pf)\n",
    "\n",
    "#         denominator = 2 + (count_steps)*0.5\n",
    "#         new_x, new_y, new_z = prev_x + (next_x - prev_x)/denominator, prev_y + (next_y - prev_y)/denominator, prev_z + (next_z - prev_z)/denominator\n",
    "#     else:\n",
    "#         new_x, new_y, new_z = next_x, next_y, next_z\n",
    "\n",
    "#     if point_type == 'pose':\n",
    "#         point_pos = int(pf['row_id'].iloc[index].split(\"-\")[2])\n",
    "\n",
    "#         if new_x.size == 0:\n",
    "#             new_x = new_y = new_z = {point_pos: -1}\n",
    "\n",
    "#         pf.at[index, 'x'] = new_x[point_pos]\n",
    "#         pf.at[index, 'y'] = new_y[point_pos]\n",
    "#         pf.at[index, 'z'] = new_z[point_pos]\n",
    "#     else:\n",
    "#         pf.loc[(pf['frame'] == frame) & (pf['type'] == point_type), 'x'] = new_x\n",
    "#         pf.loc[(pf['frame'] == frame) & (pf['type'] == point_type), 'y'] = new_y\n",
    "#         pf.loc[(pf['frame'] == frame) & (pf['type'] == point_type), 'z'] = new_z\n",
    "\n",
    "#     n_index += type_len\n",
    "\n",
    "# end = time.time()\n",
    "# print(end-start)"
   ]
  },
  {
   "cell_type": "code",
   "execution_count": 2,
   "metadata": {},
   "outputs": [
    {
     "data": {
      "text/html": [
       "<div>\n",
       "<style scoped>\n",
       "    .dataframe tbody tr th:only-of-type {\n",
       "        vertical-align: middle;\n",
       "    }\n",
       "\n",
       "    .dataframe tbody tr th {\n",
       "        vertical-align: top;\n",
       "    }\n",
       "\n",
       "    .dataframe thead th {\n",
       "        text-align: right;\n",
       "    }\n",
       "</style>\n",
       "<table border=\"1\" class=\"dataframe\">\n",
       "  <thead>\n",
       "    <tr style=\"text-align: right;\">\n",
       "      <th></th>\n",
       "      <th>frame</th>\n",
       "      <th>row_id</th>\n",
       "      <th>type</th>\n",
       "      <th>landmark_index</th>\n",
       "      <th>x</th>\n",
       "      <th>y</th>\n",
       "      <th>z</th>\n",
       "    </tr>\n",
       "  </thead>\n",
       "  <tbody>\n",
       "    <tr>\n",
       "      <th>0</th>\n",
       "      <td>3</td>\n",
       "      <td>3-face-0</td>\n",
       "      <td>face</td>\n",
       "      <td>0</td>\n",
       "      <td>0.500689</td>\n",
       "      <td>0.331367</td>\n",
       "      <td>-0.042899</td>\n",
       "    </tr>\n",
       "    <tr>\n",
       "      <th>1</th>\n",
       "      <td>3</td>\n",
       "      <td>3-face-1</td>\n",
       "      <td>face</td>\n",
       "      <td>1</td>\n",
       "      <td>0.497285</td>\n",
       "      <td>0.295139</td>\n",
       "      <td>-0.073283</td>\n",
       "    </tr>\n",
       "    <tr>\n",
       "      <th>2</th>\n",
       "      <td>3</td>\n",
       "      <td>3-face-2</td>\n",
       "      <td>face</td>\n",
       "      <td>2</td>\n",
       "      <td>0.498044</td>\n",
       "      <td>0.306532</td>\n",
       "      <td>-0.040385</td>\n",
       "    </tr>\n",
       "    <tr>\n",
       "      <th>3</th>\n",
       "      <td>3</td>\n",
       "      <td>3-face-3</td>\n",
       "      <td>face</td>\n",
       "      <td>3</td>\n",
       "      <td>0.485560</td>\n",
       "      <td>0.264679</td>\n",
       "      <td>-0.052139</td>\n",
       "    </tr>\n",
       "    <tr>\n",
       "      <th>4</th>\n",
       "      <td>3</td>\n",
       "      <td>3-face-4</td>\n",
       "      <td>face</td>\n",
       "      <td>4</td>\n",
       "      <td>0.496988</td>\n",
       "      <td>0.284997</td>\n",
       "      <td>-0.077113</td>\n",
       "    </tr>\n",
       "  </tbody>\n",
       "</table>\n",
       "</div>"
      ],
      "text/plain": [
       "   frame    row_id  type  landmark_index         x         y         z\n",
       "0      3  3-face-0  face               0  0.500689  0.331367 -0.042899\n",
       "1      3  3-face-1  face               1  0.497285  0.295139 -0.073283\n",
       "2      3  3-face-2  face               2  0.498044  0.306532 -0.040385\n",
       "3      3  3-face-3  face               3  0.485560  0.264679 -0.052139\n",
       "4      3  3-face-4  face               4  0.496988  0.284997 -0.077113"
      ]
     },
     "execution_count": 2,
     "metadata": {},
     "output_type": "execute_result"
    }
   ],
   "source": [
    "path = \"./asl-kaggle/averaged_by_labels/flower/69615131.parquet\"\n",
    "pf = pd.read_parquet(path)\n",
    "pf.head()"
   ]
  },
  {
   "cell_type": "code",
   "execution_count": 3,
   "metadata": {},
   "outputs": [
    {
     "data": {
      "text/plain": [
       "<Axes: >"
      ]
     },
     "execution_count": 3,
     "metadata": {},
     "output_type": "execute_result"
    },
    {
     "data": {
      "image/png": "[encoded data removed]",
      "text/plain": [
       "<Figure size 500x500 with 1 Axes>"
      ]
     },
     "metadata": {},
     "output_type": "display_data"
    }
   ],
   "source": [
    "# the size is arbitrary the landmark locations will be rendered relative to the dimensions of the background image provided\n",
    "annotated_image = np.zeros((1024,1024,3),dtype=np.uint8)\n",
    "show_image(annotated_image)  # show empty blackground image for reference"
   ]
  },
  {
   "cell_type": "code",
   "execution_count": 4,
   "metadata": {},
   "outputs": [],
   "source": [
    "class Landmarks(object):\n",
    "    pass\n",
    "\n",
    "def get_landmarks_from_parquet(pf,frame):\n",
    "    f = pf[pf.frame == frame]\n",
    "    face = landmark_pb2.NormalizedLandmarkList()\n",
    "    for t in f[f.type=='face'][['x','y','z']].itertuples(index=False):\n",
    "        face.landmark.add(x=t.x,y=t.y,z=t.z)\n",
    "    # pose = landmark_pb2.NormalizedLandmarkList()\n",
    "    pose = landmark_pb2.NormalizedLandmarkList()\n",
    "    for t in f[f.type=='pose'][['x','y','z']].itertuples(index=False):\n",
    "        pose.landmark.add(x=t.x,y=t.y,z=t.z)\n",
    "    left_hand = landmark_pb2.NormalizedLandmarkList()\n",
    "    for t in f[f.type=='left_hand'][['x','y','z']].itertuples(index=False):\n",
    "        left_hand.landmark.add(x=t.x,y=t.y,z=t.z)\n",
    "    right_hand = landmark_pb2.NormalizedLandmarkList()\n",
    "    for t in f[f.type=='right_hand'][['x','y','z']].itertuples(index=False):\n",
    "        right_hand.landmark.add(x=t.x,y=t.y,z=t.z)    \n",
    "    result = Landmarks()\n",
    "    result.face_landmarks = face\n",
    "    result.pose_landmarks = pose\n",
    "    result.left_hand_landmarks = left_hand\n",
    "    result.right_hand_landmarks = right_hand\n",
    "    return result\n",
    "    "
   ]
  },
  {
   "cell_type": "code",
   "execution_count": 5,
   "metadata": {},
   "outputs": [],
   "source": [
    "landmarks = get_landmarks_from_parquet(pf,200)\n",
    "# show_image(draw_landmarks(landmarks,annotated_image))"
   ]
  },
  {
   "cell_type": "code",
   "execution_count": 10,
   "metadata": {},
   "outputs": [
    {
     "data": {
      "text/html": [
       "<div>\n",
       "<style scoped>\n",
       "    .dataframe tbody tr th:only-of-type {\n",
       "        vertical-align: middle;\n",
       "    }\n",
       "\n",
       "    .dataframe tbody tr th {\n",
       "        vertical-align: top;\n",
       "    }\n",
       "\n",
       "    .dataframe thead th {\n",
       "        text-align: right;\n",
       "    }\n",
       "</style>\n",
       "<table border=\"1\" class=\"dataframe\">\n",
       "  <thead>\n",
       "    <tr style=\"text-align: right;\">\n",
       "      <th></th>\n",
       "      <th>frame</th>\n",
       "      <th>row_id</th>\n",
       "      <th>type</th>\n",
       "      <th>landmark_index</th>\n",
       "      <th>x</th>\n",
       "      <th>y</th>\n",
       "      <th>z</th>\n",
       "    </tr>\n",
       "  </thead>\n",
       "  <tbody>\n",
       "    <tr>\n",
       "      <th>0</th>\n",
       "      <td>0</td>\n",
       "      <td>0-face-0</td>\n",
       "      <td>face</td>\n",
       "      <td>0</td>\n",
       "      <td>0.480886</td>\n",
       "      <td>0.546504</td>\n",
       "      <td>-0.033472</td>\n",
       "    </tr>\n",
       "    <tr>\n",
       "      <th>1</th>\n",
       "      <td>0</td>\n",
       "      <td>0-face-1</td>\n",
       "      <td>face</td>\n",
       "      <td>1</td>\n",
       "      <td>0.481366</td>\n",
       "      <td>0.521996</td>\n",
       "      <td>-0.063917</td>\n",
       "    </tr>\n",
       "    <tr>\n",
       "      <th>2</th>\n",
       "      <td>0</td>\n",
       "      <td>0-face-2</td>\n",
       "      <td>face</td>\n",
       "      <td>2</td>\n",
       "      <td>0.480800</td>\n",
       "      <td>0.531214</td>\n",
       "      <td>-0.033660</td>\n",
       "    </tr>\n",
       "    <tr>\n",
       "      <th>3</th>\n",
       "      <td>0</td>\n",
       "      <td>0-face-3</td>\n",
       "      <td>face</td>\n",
       "      <td>3</td>\n",
       "      <td>0.464800</td>\n",
       "      <td>0.493294</td>\n",
       "      <td>-0.048633</td>\n",
       "    </tr>\n",
       "    <tr>\n",
       "      <th>4</th>\n",
       "      <td>0</td>\n",
       "      <td>0-face-4</td>\n",
       "      <td>face</td>\n",
       "      <td>4</td>\n",
       "      <td>0.480110</td>\n",
       "      <td>0.512801</td>\n",
       "      <td>-0.067883</td>\n",
       "    </tr>\n",
       "  </tbody>\n",
       "</table>\n",
       "</div>"
      ],
      "text/plain": [
       "   frame    row_id  type  landmark_index         x         y         z\n",
       "0      0  0-face-0  face               0  0.480886  0.546504 -0.033472\n",
       "1      0  0-face-1  face               1  0.481366  0.521996 -0.063917\n",
       "2      0  0-face-2  face               2  0.480800  0.531214 -0.033660\n",
       "3      0  0-face-3  face               3  0.464800  0.493294 -0.048633\n",
       "4      0  0-face-4  face               4  0.480110  0.512801 -0.067883"
      ]
     },
     "execution_count": 10,
     "metadata": {},
     "output_type": "execute_result"
    }
   ],
   "source": [
    "path = \"./asl-kaggle/by_labels/alligator/1145220890.parquet\"\n",
    "pf = pd.read_parquet(path)\n",
    "pf.head()"
   ]
  },
  {
   "cell_type": "code",
   "execution_count": 61,
   "metadata": {},
   "outputs": [
    {
     "data": {
      "application/vnd.jupyter.widget-view+json": {
       "model_id": "25ce36e73e68473184a3c8e9b79b4895",
       "version_major": 2,
       "version_minor": 0
      },
      "text/plain": [
       "interactive(children=(IntSlider(value=0, description='frame', max=4), Output()), _dom_classes=('widget-interac…"
      ]
     },
     "metadata": {},
     "output_type": "display_data"
    }
   ],
   "source": [
    "frames = pf.frame.unique()  # get the frames from the parquet file\n",
    "annotated_image = np.zeros((1024,1024,3),dtype=np.uint8)\n",
    "\n",
    "def show_frame(frame):\n",
    "    landmarks = get_landmarks_from_parquet(pf,frames[frame])\n",
    "    show_image(draw_landmarks(landmarks,annotated_image),figsize=(9,9),title=f'frame: {frames[frame]} [{frame+1} of {len(frames)}]')\n",
    "    #print(f'showing frame: {frames[frame]}')\n",
    "    \n",
    "i = interact(show_frame,frame=widgets.IntSlider(min=0, max=len(frames)-1, step=1, value=0))"
   ]
  },
  {
   "cell_type": "code",
   "execution_count": 17,
   "metadata": {},
   "outputs": [
    {
     "data": {
      "text/html": [
       "<div>\n",
       "<style scoped>\n",
       "    .dataframe tbody tr th:only-of-type {\n",
       "        vertical-align: middle;\n",
       "    }\n",
       "\n",
       "    .dataframe tbody tr th {\n",
       "        vertical-align: top;\n",
       "    }\n",
       "\n",
       "    .dataframe thead th {\n",
       "        text-align: right;\n",
       "    }\n",
       "</style>\n",
       "<table border=\"1\" class=\"dataframe\">\n",
       "  <thead>\n",
       "    <tr style=\"text-align: right;\">\n",
       "      <th></th>\n",
       "      <th>frame</th>\n",
       "      <th>row_id</th>\n",
       "      <th>type</th>\n",
       "      <th>landmark_index</th>\n",
       "      <th>x</th>\n",
       "      <th>y</th>\n",
       "      <th>z</th>\n",
       "    </tr>\n",
       "  </thead>\n",
       "  <tbody>\n",
       "    <tr>\n",
       "      <th>0</th>\n",
       "      <td>23</td>\n",
       "      <td>23-face-0</td>\n",
       "      <td>face</td>\n",
       "      <td>0</td>\n",
       "      <td>0.463892</td>\n",
       "      <td>0.554760</td>\n",
       "      <td>-0.036043</td>\n",
       "    </tr>\n",
       "    <tr>\n",
       "      <th>1</th>\n",
       "      <td>23</td>\n",
       "      <td>23-face-1</td>\n",
       "      <td>face</td>\n",
       "      <td>1</td>\n",
       "      <td>0.458248</td>\n",
       "      <td>0.532822</td>\n",
       "      <td>-0.054512</td>\n",
       "    </tr>\n",
       "    <tr>\n",
       "      <th>2</th>\n",
       "      <td>23</td>\n",
       "      <td>23-face-2</td>\n",
       "      <td>face</td>\n",
       "      <td>2</td>\n",
       "      <td>0.461142</td>\n",
       "      <td>0.545316</td>\n",
       "      <td>-0.033657</td>\n",
       "    </tr>\n",
       "    <tr>\n",
       "      <th>3</th>\n",
       "      <td>23</td>\n",
       "      <td>23-face-3</td>\n",
       "      <td>face</td>\n",
       "      <td>3</td>\n",
       "      <td>0.449503</td>\n",
       "      <td>0.503598</td>\n",
       "      <td>-0.032743</td>\n",
       "    </tr>\n",
       "    <tr>\n",
       "      <th>4</th>\n",
       "      <td>23</td>\n",
       "      <td>23-face-4</td>\n",
       "      <td>face</td>\n",
       "      <td>4</td>\n",
       "      <td>0.458119</td>\n",
       "      <td>0.523112</td>\n",
       "      <td>-0.055743</td>\n",
       "    </tr>\n",
       "  </tbody>\n",
       "</table>\n",
       "</div>"
      ],
      "text/plain": [
       "   frame     row_id  type  landmark_index         x         y         z\n",
       "0     23  23-face-0  face               0  0.463892  0.554760 -0.036043\n",
       "1     23  23-face-1  face               1  0.458248  0.532822 -0.054512\n",
       "2     23  23-face-2  face               2  0.461142  0.545316 -0.033657\n",
       "3     23  23-face-3  face               3  0.449503  0.503598 -0.032743\n",
       "4     23  23-face-4  face               4  0.458119  0.523112 -0.055743"
      ]
     },
     "execution_count": 17,
     "metadata": {},
     "output_type": "execute_result"
    }
   ],
   "source": [
    "path = \"./asl-kaggle/averaged_by_labels/alligator/106350080.parquet\"\n",
    "pf = pd.read_parquet(path)\n",
    "pf.head()"
   ]
  },
  {
   "cell_type": "code",
   "execution_count": 21,
   "metadata": {},
   "outputs": [
    {
     "data": {
      "application/vnd.jupyter.widget-view+json": {
       "model_id": "7cb4fa7d29b74557b26f916c32a7e39b",
       "version_major": 2,
       "version_minor": 0
      },
      "text/plain": [
       "interactive(children=(IntSlider(value=0, description='frame', max=24), Output()), _dom_classes=('widget-intera…"
      ]
     },
     "metadata": {},
     "output_type": "display_data"
    }
   ],
   "source": [
    "frames = pf.frame.unique()  # get the frames from the parquet file\n",
    "annotated_image = np.zeros((1024,1024,3),dtype=np.uint8)\n",
    "\n",
    "def show_frame(frame):\n",
    "    landmarks = get_landmarks_from_parquet(pf,frames[frame])\n",
    "    show_image(draw_landmarks(landmarks,annotated_image),figsize=(9,9),title=f'frame: {frames[frame]} [{frame+1} of {len(frames)}]')\n",
    "    #print(f'showing frame: {frames[frame]}')\n",
    "    \n",
    "i = interact(show_frame,frame=widgets.IntSlider(min=0, max=len(frames)-1, step=1, value=0))"
   ]
  },
  {
   "cell_type": "code",
   "execution_count": null,
   "metadata": {},
   "outputs": [],
   "source": []
  }
 ],
 "metadata": {
  "kernelspec": {
   "display_name": "IS460MLApps",
   "language": "python",
   "name": "python3"
  },
  "language_info": {
   "codemirror_mode": {
    "name": "ipython",
    "version": 3
   },
   "file_extension": ".py",
   "mimetype": "text/x-python",
   "name": "python",
   "nbconvert_exporter": "python",
   "pygments_lexer": "ipython3",
   "version": "3.10.13"
  }
 },
 "nbformat": 4,
 "nbformat_minor": 2
}
