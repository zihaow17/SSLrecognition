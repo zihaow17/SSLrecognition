{
 "cells": [
  {
   "cell_type": "code",
   "execution_count": 1,
   "metadata": {},
   "outputs": [],
   "source": [
    "import pandas as pd\n",
    "import numpy as np\n",
    "from Preprocessing.average_parquet import Averager"
   ]
  },
  {
   "cell_type": "code",
   "execution_count": 4,
   "metadata": {},
   "outputs": [],
   "source": [
    "from os import listdir\n",
    "import os\n",
    "from os.path import isfile, join\n",
    "import sys\n",
    "\n",
    "\n",
    "# folders = [\"alligator/\", \"flower/\", \"kiss/\", \"listen/\", \"orange/\"]\n",
    "folders = [\"hello/\", \"all/\", \"thankyou/\", \"for/\", \"time/\", \"will/\", \"now/\", \"please/\", \"quiet/\", \"down/\", \"listen/\", \"close/\", \"have/\", \"no/\", \"nap/\", \"bye/\"]\n",
    "optional = [\"if/\", \"noisy/\", \"mad/\", \"sad/\"]\n",
    "\n",
    "folders = np.append(folders, optional)\n",
    "\n",
    "# folders = [\"base/\",\"good/\",\"how/\",\"show/\",\"we/\",\"work/\"]\n",
    "\n",
    "for folder in folders[17:]:\n",
    "    path = \"./asl-kaggle/by_labels/\"+folder\n",
    "    save_path = \"./asl-kaggle/averaged_by_labels/\"+folder\n",
    "    parquets = [f for f in listdir(path) if isfile(join(path, f))]\n",
    "\n",
    "    if not os.path.exists(save_path):\n",
    "            os.makedirs(save_path)\n",
    "\n",
    "    for parquet in parquets:\n",
    "        parquet_path = path+parquet\n",
    "        pf = pd.read_parquet(parquet_path)\n",
    "        \n",
    "        averaged_pf = Averager(pf).average_pf()\n",
    "        averaged_pf.to_parquet(save_path+parquet)"
   ]
  },
  {
   "cell_type": "code",
   "execution_count": null,
   "metadata": {},
   "outputs": [],
   "source": []
  }
 ],
 "metadata": {
  "kernelspec": {
   "display_name": "IS460MLApps",
   "language": "python",
   "name": "python3"
  },
  "language_info": {
   "codemirror_mode": {
    "name": "ipython",
    "version": 3
   },
   "file_extension": ".py",
   "mimetype": "text/x-python",
   "name": "python",
   "nbconvert_exporter": "python",
   "pygments_lexer": "ipython3",
   "version": "3.10.13"
  }
 },
 "nbformat": 4,
 "nbformat_minor": 2
}
