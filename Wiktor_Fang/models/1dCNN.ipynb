{
 "cells": [
  {
   "cell_type": "code",
   "execution_count": 1,
   "metadata": {},
   "outputs": [
    {
     "name": "stdout",
     "output_type": "stream",
     "text": [
      "WARNING:tensorflow:From c:\\Users\\zorko\\anaconda3\\envs\\IS460MLApps\\lib\\site-packages\\keras\\src\\losses.py:2976: The name tf.losses.sparse_softmax_cross_entropy is deprecated. Please use tf.compat.v1.losses.sparse_softmax_cross_entropy instead.\n",
      "\n"
     ]
    }
   ],
   "source": [
    "import sys\n",
    "sys.path.append(\"d:\\\\SMU\\\\ml&applns\")\n",
    "\n",
    "import pandas as pd\n",
    "import numpy as np\n",
    "import tensorflow as tf\n",
    "import time\n",
    "from Preprocessing.DFTransformations import *\n",
    "from Preprocessing.DataExtration import *\n",
    "\n",
    "from sklearn.model_selection import train_test_split\n",
    "from sklearn.preprocessing import LabelBinarizer\n",
    "from tensorflow.keras.utils import to_categorical\n",
    "from random import randint\n",
    "\n",
    "from os import listdir\n",
    "from os.path import isfile, join"
   ]
  },
  {
   "cell_type": "markdown",
   "metadata": {},
   "source": [
    "Based on Global Data:\n",
    "\n",
    "min_frame = 1\n",
    "\n",
    "max_frames = 414\n",
    "\n",
    "mean_frames = 64.7...\n",
    "\n",
    "median_frames = 41\n",
    "\n",
    "std = 56.7579\n",
    "_______________________________\n",
    "Frame_Target = 65"
   ]
  },
  {
   "cell_type": "code",
   "execution_count": 2,
   "metadata": {},
   "outputs": [],
   "source": [
    "def calc_stats_types(pf):\n",
    "    grouped_data = pf.groupby('frame')[['x','y','z']]\n",
    "    grouped_data = np.array([group.values for _, group in grouped_data])\n",
    "    arr = np.transpose(grouped_data, (0, 2, 1))\n",
    "\n",
    "    face_data = arr[:, :, :7]\n",
    "    left_hand_data = arr[:, :, 7:24]\n",
    "    pose_data = arr[:, :, 24:30]\n",
    "    right_hand_data = arr[:, :, 30:]\n",
    "\n",
    "    data = [left_hand_data, pose_data, right_hand_data]\n",
    "\n",
    "    video_data = calculate_stats_np(face_data)\n",
    "\n",
    "    for a in data:\n",
    "        video_data = np.concatenate((video_data, calculate_stats_np(a)), axis=1)\n",
    "\n",
    "    video_data = np.nan_to_num(video_data, 0)\n",
    "\n",
    "    return video_data"
   ]
  },
  {
   "cell_type": "code",
   "execution_count": 4,
   "metadata": {},
   "outputs": [],
   "source": [
    "import warnings\n",
    "\n",
    "# Initialize a list of folder names containing parquet files\n",
    "folders = [\"hello\", \"all\", \"thankyou\", \"for\", \"time\", \"will\", \"now\", \"please\", \"quiet\", \"down\", \"listen\", \"close\", \"have\", \"no\", \"nap\", \"bye\", \"base\", \"good\", \"how\", \"show\", \"we\", \"work\"]\n",
    "optional = [\"if\", \"noisy\", \"mad\", \"sad\"]\n",
    "\n",
    "folders = np.append(folders, optional)\n",
    "\n",
    "# Initialize lists for aggregated data and labels\n",
    "aggregated_files = []\n",
    "labels = []\n",
    "\n",
    "## ------------------------ To Tune ------------------------ ##\n",
    "# Transform data in pf to accommodate the desired frame amount\n",
    "# If less than frame num, duplicate frames or pad with 0's\n",
    "# If more than frame num, delete frames\n",
    "frames_target = 65\n",
    "duplicate = True\n",
    "remove_points = True\n",
    "# Set duplicate to True if you want to duplicate frames to reach\n",
    "#   target frame amount.\n",
    "# Else, set to False to pad the data with 0's\n",
    "## --------------------------------------------------------- ##\n",
    "\n",
    "# Iterate over the folders in the list\n",
    "for folder in folders:\n",
    "    # Update path to focus on content inside folder in the current iteration\n",
    "    path = \"../asl-kaggle/averaged_by_labels/\"+folder+\"/\"\n",
    "\n",
    "    # Fetch all file names in the folder\n",
    "    parquets = [f for f in listdir(path) if isfile(join(path, f))]\n",
    "\n",
    "    # Iterate over file names in the list (up to the 50th file name)\n",
    "    for parquet in parquets[:]:\n",
    "        # Update path to focus on the file in the current iteration\n",
    "        parquet_path = path + parquet\n",
    "        \n",
    "        # Read the file at the path and load data to pf\n",
    "        pf = pd.read_parquet(parquet_path)\n",
    "        \n",
    "        # Remove all rows with the type of face\n",
    "        pf = pf.drop(pf.loc[pf.type==\"face\"].index)\n",
    "        \n",
    "        # Replace all NaN values with 0\n",
    "        pf = pf.fillna(0)\n",
    "\n",
    "        if len(pf.frame.unique()) < 10:\n",
    "            continue\n",
    "        \n",
    "        pf = transform_data(pf, frames_target, duplicate, remove_points) # (int)\n",
    "        # pf = pf.drop(['row_id','type','landmark_index'], axis=1)\n",
    "\n",
    "        pf = pf.sort_values('type')\n",
    "\n",
    "        if remove_points:\n",
    "            with warnings.catch_warnings():\n",
    "                warnings.simplefilter(\"ignore\")\n",
    "                video_data = calc_stats_types(pf)\n",
    "        else:\n",
    "            video_data = calculate_stats(pf)\n",
    "\n",
    "        if not duplicate:\n",
    "            frame_num = video_data.shape[0]\n",
    "            if frame_num != frames_target:\n",
    "                pad = np.zeros(shape=((frames_target - frame_num), video_data.shape[1]))\n",
    "                video_data = np.concatenate((video_data, pad), axis=0)\n",
    "\n",
    "        labels.append(folder)\n",
    "\n",
    "        # Append array to list\n",
    "        aggregated_files.append(video_data)"
   ]
  },
  {
   "cell_type": "code",
   "execution_count": 5,
   "metadata": {},
   "outputs": [
    {
     "data": {
      "text/plain": [
       "(7627, 65, 120)"
      ]
     },
     "execution_count": 5,
     "metadata": {},
     "output_type": "execute_result"
    }
   ],
   "source": [
    "try:\n",
    "    dataset = np.array(aggregated_files)\n",
    "except:\n",
    "    print(\"Padding Data\")\n",
    "\n",
    "    # Find the maximum length of arrays\n",
    "    max_length = max(arr.shape[0] for arr in aggregated_files)\n",
    "\n",
    "    # Pad each array along the first dimension (rows)\n",
    "    padded_data = [np.pad(arr, ((0, max_length - arr.shape[0]), (0, 0), (0, 0), (0, 0)), mode='constant') for arr in aggregated_files]\n",
    "\n",
    "    # Convert the list of padded arrays back to a numpy array\n",
    "    dataset = np.array(padded_data)\n",
    "\n",
    "dataset.shape"
   ]
  },
  {
   "cell_type": "code",
   "execution_count": 6,
   "metadata": {},
   "outputs": [],
   "source": [
    "def random_scaling(array, scaling_factor=0.01):\n",
    "    scaling_factors = np.random.uniform(low=1-scaling_factor, high=1+scaling_factor, size=array.shape[0])\n",
    "    scaling_factors = scaling_factors[:, np.newaxis, np.newaxis]\n",
    "    return array * scaling_factor\n",
    "\n",
    "def augment_data(data, labels, perc_augment=0.1):\n",
    "    noisy_data = random_scaling(data, 0.03)\n",
    "    \n",
    "    amt = int(len(data)*perc_augment)-1\n",
    "    amt = 1 if amt <= 0 else amt\n",
    "\n",
    "    noisy_data, _, noisy_labels, _ = train_test_split(noisy_data, labels, train_size=amt, shuffle=True)\n",
    "\n",
    "    data = np.concatenate([data, noisy_data])\n",
    "    labels = np.concatenate([labels, noisy_labels])\n",
    "\n",
    "    return data, labels"
   ]
  },
  {
   "cell_type": "code",
   "execution_count": 7,
   "metadata": {},
   "outputs": [],
   "source": [
    "from sklearn.preprocessing import StandardScaler\n",
    "\n",
    "encoder = LabelBinarizer().fit(labels)\n",
    "y = encoder.transform(labels)\n",
    "\n",
    "# dataset, y = augment_data(dataset, y, perc_augment=0.3)\n",
    "\n",
    "# X_train, X_test, y_train, y_test = train_test_split(dataset, y, test_size=0.2, shuffle=True, random_state=42)\n",
    "X_train, X_val, y_train, y_val = train_test_split(dataset, y, test_size=0.2, random_state=21)\n",
    "# X_val, X_test, y_val, y_test = train_test_split(X_test, y_test, test_size=0.5)\n",
    "\n",
    "# X_tr, X_test, y_tr, y_test = train_test_split(dataset, y, test_size=0.1, shuffle=True)"
   ]
  },
  {
   "cell_type": "code",
   "execution_count": null,
   "metadata": {},
   "outputs": [],
   "source": [
    "# X_train, y_train = X_tr, y_tr\n",
    "# X_val, y_val = X_v, y_v\n",
    "\n",
    "# X_train, y_train = augment_data(X_tr, y_tr, 0.3)\n",
    "# X_val, y_val = augment_data(X_v, y_v, 0.01)\n",
    "\n",
    "# X_train, y_train = augment_data(X_tr, y_tr, 0.3)\n",
    "# X_train, y_train = augment_data(X_train, y_train, 1)\n",
    "# X_train, y_train = augment_data(X_train, y_train, 1)\n",
    "# X_train, X_val, y_train, y_val = train_test_split(X_train, y_train, test_size=0.2)"
   ]
  },
  {
   "cell_type": "code",
   "execution_count": 8,
   "metadata": {},
   "outputs": [],
   "source": [
    "from sklearn.discriminant_analysis import LinearDiscriminantAnalysis\n",
    "\n",
    "# Standardize the features while retaining 3D shape\n",
    "scaler = StandardScaler()\n",
    "\n",
    "X_train_std = X_train.reshape(X_train.shape[0], -1)  # Flatten to 2D\n",
    "X_train_std = scaler.fit_transform(X_train_std)\n",
    "X_train = X_train_std.reshape(X_train.shape)  # Reshape back to 3D\n",
    "\n",
    "X_val_std = X_val.reshape(X_val.shape[0], -1)  # Flatten to 2D\n",
    "X_val_std = scaler.transform(X_val_std)\n",
    "X_val = X_val_std.reshape(X_val.shape)\n",
    "\n",
    "# X_test_std = X_test.reshape(X_test.shape[0], -1)  # Flatten to 2D\n",
    "# X_test_std = scaler.transform(X_test_std)\n",
    "# X_test = X_test_std.reshape(X_test.shape)"
   ]
  },
  {
   "cell_type": "code",
   "execution_count": 14,
   "metadata": {},
   "outputs": [
    {
     "data": {
      "text/plain": [
       "(6101, 65, 120)"
      ]
     },
     "execution_count": 14,
     "metadata": {},
     "output_type": "execute_result"
    }
   ],
   "source": [
    "X_train.shape"
   ]
  },
  {
   "cell_type": "code",
   "execution_count": 15,
   "metadata": {},
   "outputs": [
    {
     "data": {
      "text/plain": [
       "(1526, 65, 120)"
      ]
     },
     "execution_count": 15,
     "metadata": {},
     "output_type": "execute_result"
    }
   ],
   "source": [
    "X_val.shape"
   ]
  },
  {
   "cell_type": "code",
   "execution_count": 13,
   "metadata": {},
   "outputs": [],
   "source": [
    "import pickle\n",
    "\n",
    "with open('label_binarizer.pkl', 'wb') as f:\n",
    "    pickle.dump(encoder, f)\n",
    "    \n",
    "with open('standard_scaler.pkl', 'wb') as f:\n",
    "    pickle.dump(scaler, f)"
   ]
  },
  {
   "cell_type": "code",
   "execution_count": 9,
   "metadata": {},
   "outputs": [],
   "source": [
    "from tensorflow.keras.layers import Conv1D, MaxPooling1D, Flatten, Dense, Dropout, AveragePooling1D, BatchNormalization, Input, GlobalAveragePooling1D, GlobalMaxPooling1D\n",
    "from tensorflow.keras.layers import DepthwiseConv1D, SeparableConv1D, LocallyConnected1D\n",
    "from tensorflow.keras.layers import SpatialDropout1D, GaussianDropout, AlphaDropout\n",
    "from tensorflow.keras import Sequential\n"
   ]
  },
  {
   "cell_type": "code",
   "execution_count": null,
   "metadata": {},
   "outputs": [],
   "source": [
    "## --------------------------------------------------------------------------------------------------------------##\n",
    "\n",
    "# TODO\n",
    "#   You can select from any of these belo layers and implement into the below model:\n",
    "#   -Conv1D     -MaxPooling1D   -AveragePooling1D   -Dropout    -BatchNormalization\n",
    "#   \n",
    "#   You can change GlobalAveragePooling1D to GlobalMaxPooling1D\n",
    "#\n",
    "#   For Conv1D you can change/set the following parameters:\n",
    "#   - filters (i.e. neurons)\n",
    "#   - kernel_size\n",
    "#   - strides\n",
    "#   - activation (Refer to: https://www.tensorflow.org/api_docs/python/tf/keras/activations)\n",
    "#   - kernel_regularizer (regularization techniques, refer to: https://www.tensorflow.org/api_docs/python/tf/keras/regularizers)\n",
    "#\n",
    "#   For Pooling Layers:\n",
    "#   - pool_size : This parameter effectively divides the data dimensions by the provided integer value\n",
    "#\n",
    "\n",
    "## --------------------------------------------------------------------------------------------------------------##\n",
    "\n",
    "model = Sequential()\n",
    "\n",
    "model.add(Input((X_train.shape[1], X_train.shape[2])))\n",
    "\n",
    "model.add(Conv1D(32, kernel_size=4, activation='relu'))\n",
    "model.add(Conv1D(32, kernel_size=4, activation='relu'))\n",
    "model.add(AveragePooling1D(pool_size=2))\n",
    "\n",
    "model.add(AlphaDropout(0.4))\n",
    "\n",
    "model.add(Conv1D(16, kernel_size=2, activation='relu'))\n",
    "model.add(AveragePooling1D(pool_size=2))\n",
    "\n",
    "model.add(AlphaDropout(0.4))\n",
    "\n",
    "model.add(Conv1D(64, kernel_size=2, activation='relu'))\n",
    "model.add(Conv1D(64, kernel_size=2, activation='relu'))\n",
    "model.add(AveragePooling1D(pool_size=2))\n",
    "model.add(BatchNormalization())\n",
    "\n",
    "model.add(AlphaDropout(0.3))\n",
    "\n",
    "model.add(Conv1D(128, kernel_size=2, activation='relu'))\n",
    "model.add(Conv1D(128, kernel_size=2, activation='relu'))\n",
    "model.add(AveragePooling1D(pool_size=2))\n",
    "\n",
    "model.add(BatchNormalization())\n",
    "model.add(GlobalAveragePooling1D())\n",
    "model.add(Dropout(0.8))\n",
    "\n",
    "model.add(Dense(y.shape[1], activation='softmax', kernel_regularizer=tf.keras.regularizers.l1_l2(0.015)))\n",
    "\n",
    "model.compile(optimizer='adam', loss='categorical_crossentropy', metrics=['accuracy'])\n",
    "model.summary()"
   ]
  },
  {
   "cell_type": "code",
   "execution_count": 10,
   "metadata": {},
   "outputs": [
    {
     "name": "stdout",
     "output_type": "stream",
     "text": [
      "WARNING:tensorflow:From c:\\Users\\zorko\\anaconda3\\envs\\IS460MLApps\\lib\\site-packages\\keras\\src\\backend.py:873: The name tf.get_default_graph is deprecated. Please use tf.compat.v1.get_default_graph instead.\n",
      "\n",
      "WARNING:tensorflow:From c:\\Users\\zorko\\anaconda3\\envs\\IS460MLApps\\lib\\site-packages\\keras\\src\\backend.py:6642: The name tf.nn.max_pool is deprecated. Please use tf.nn.max_pool2d instead.\n",
      "\n",
      "WARNING:tensorflow:From c:\\Users\\zorko\\anaconda3\\envs\\IS460MLApps\\lib\\site-packages\\keras\\src\\optimizers\\__init__.py:309: The name tf.train.Optimizer is deprecated. Please use tf.compat.v1.train.Optimizer instead.\n",
      "\n",
      "Model: \"sequential\"\n",
      "_________________________________________________________________\n",
      " Layer (type)                Output Shape              Param #   \n",
      "=================================================================\n",
      " conv1d (Conv1D)             (None, 64, 64)            15424     \n",
      "                                                                 \n",
      " conv1d_1 (Conv1D)           (None, 63, 64)            8256      \n",
      "                                                                 \n",
      " max_pooling1d (MaxPooling1  (None, 31, 64)            0         \n",
      " D)                                                              \n",
      "                                                                 \n",
      " alpha_dropout (AlphaDropou  (None, 31, 64)            0         \n",
      " t)                                                              \n",
      "                                                                 \n",
      " batch_normalization (Batch  (None, 31, 64)            256       \n",
      " Normalization)                                                  \n",
      "                                                                 \n",
      " conv1d_2 (Conv1D)           (None, 28, 64)            16448     \n",
      "                                                                 \n",
      " conv1d_3 (Conv1D)           (None, 25, 64)            16448     \n",
      "                                                                 \n",
      " average_pooling1d (Average  (None, 8, 64)             0         \n",
      " Pooling1D)                                                      \n",
      "                                                                 \n",
      " alpha_dropout_1 (AlphaDrop  (None, 8, 64)             0         \n",
      " out)                                                            \n",
      "                                                                 \n",
      " batch_normalization_1 (Bat  (None, 8, 64)             256       \n",
      " chNormalization)                                                \n",
      "                                                                 \n",
      " conv1d_4 (Conv1D)           (None, 7, 128)            16512     \n",
      "                                                                 \n",
      " conv1d_5 (Conv1D)           (None, 6, 128)            32896     \n",
      "                                                                 \n",
      " conv1d_6 (Conv1D)           (None, 5, 128)            32896     \n",
      "                                                                 \n",
      " max_pooling1d_1 (MaxPoolin  (None, 2, 128)            0         \n",
      " g1D)                                                            \n",
      "                                                                 \n",
      " global_average_pooling1d (  (None, 128)               0         \n",
      " GlobalAveragePooling1D)                                         \n",
      "                                                                 \n",
      " dropout (Dropout)           (None, 128)               0         \n",
      "                                                                 \n",
      " dense (Dense)               (None, 26)                3354      \n",
      "                                                                 \n",
      "=================================================================\n",
      "Total params: 142746 (557.60 KB)\n",
      "Trainable params: 142490 (556.60 KB)\n",
      "Non-trainable params: 256 (1.00 KB)\n",
      "_________________________________________________________________\n"
     ]
    }
   ],
   "source": [
    "model = Sequential()\n",
    "model.add(Input((X_train.shape[1], X_train.shape[2])))\n",
    "\n",
    "model.add(Conv1D(64, kernel_size=2, activation='selu'))\n",
    "model.add(Conv1D(64, kernel_size=2, activation='selu'))\n",
    "model.add(MaxPooling1D(pool_size=2))\n",
    "\n",
    "model.add(AlphaDropout(0.3))\n",
    "model.add(BatchNormalization())\n",
    "\n",
    "model.add(Conv1D(64, kernel_size=4, activation='selu'))\n",
    "model.add(Conv1D(64, kernel_size=4, activation='selu'))\n",
    "model.add(AveragePooling1D(pool_size=3))\n",
    "\n",
    "model.add(AlphaDropout(0.4))\n",
    "model.add(BatchNormalization())\n",
    "\n",
    "model.add(Conv1D(128, kernel_size=2, activation='selu'))\n",
    "model.add(Conv1D(128, kernel_size=2, activation='selu'))\n",
    "model.add(Conv1D(128, kernel_size=2, activation='selu'))\n",
    "model.add(MaxPooling1D(pool_size=2))\n",
    "\n",
    "model.add(GlobalAveragePooling1D())\n",
    "model.add(Dropout(0.8))\n",
    "\n",
    "model.add(Dense(y.shape[1], activation='softmax', kernel_regularizer=tf.keras.regularizers.l1_l2(0.005)))\n",
    "model.compile(optimizer='adam', loss='categorical_crossentropy', metrics=['accuracy'])\n",
    "model.summary()"
   ]
  },
  {
   "cell_type": "code",
   "execution_count": 11,
   "metadata": {},
   "outputs": [
    {
     "data": {
      "image/png": "[encoded data removed]",
      "text/plain": [
       "<Figure size 1200x800 with 2 Axes>"
      ]
     },
     "metadata": {},
     "output_type": "display_data"
    },
    {
     "name": "stdout",
     "output_type": "stream",
     "text": [
      "accuracy\n",
      "\ttraining         \t (min:    0.134, max:    0.878, cur:    0.859)\n",
      "\tvalidation       \t (min:    0.290, max:    0.842, cur:    0.822)\n",
      "Loss\n",
      "\ttraining         \t (min:    0.696, max:    4.874, cur:    0.797)\n",
      "\tvalidation       \t (min:    1.285, max:    3.298, cur:    1.772)\n"
     ]
    },
    {
     "ename": "KeyboardInterrupt",
     "evalue": "",
     "output_type": "error",
     "traceback": [
      "\u001b[1;31m---------------------------------------------------------------------------\u001b[0m",
      "\u001b[1;31mKeyboardInterrupt\u001b[0m                         Traceback (most recent call last)",
      "Cell \u001b[1;32mIn[11], line 11\u001b[0m\n\u001b[0;32m      8\u001b[0m \u001b[38;5;66;03m# Set up early stopping callback\u001b[39;00m\n\u001b[0;32m     10\u001b[0m early_stopping \u001b[38;5;241m=\u001b[39m EarlyStopping(monitor\u001b[38;5;241m=\u001b[39m\u001b[38;5;124m'\u001b[39m\u001b[38;5;124mval_loss\u001b[39m\u001b[38;5;124m'\u001b[39m, patience\u001b[38;5;241m=\u001b[39m\u001b[38;5;241m10\u001b[39m, restore_best_weights\u001b[38;5;241m=\u001b[39m\u001b[38;5;28;01mTrue\u001b[39;00m)\n\u001b[1;32m---> 11\u001b[0m \u001b[43mmodel\u001b[49m\u001b[38;5;241;43m.\u001b[39;49m\u001b[43mfit\u001b[49m\u001b[43m(\u001b[49m\u001b[43mX_train\u001b[49m\u001b[43m,\u001b[49m\u001b[43m \u001b[49m\u001b[43my_train\u001b[49m\u001b[43m,\u001b[49m\u001b[43m \u001b[49m\u001b[43mvalidation_data\u001b[49m\u001b[38;5;241;43m=\u001b[39;49m\u001b[43m(\u001b[49m\u001b[43mX_val\u001b[49m\u001b[43m,\u001b[49m\u001b[43m \u001b[49m\u001b[43my_val\u001b[49m\u001b[43m)\u001b[49m\u001b[43m,\u001b[49m\u001b[43m \u001b[49m\u001b[43mbatch_size\u001b[49m\u001b[38;5;241;43m=\u001b[39;49m\u001b[43mbatch_size\u001b[49m\u001b[43m,\u001b[49m\u001b[43m \u001b[49m\u001b[43mepochs\u001b[49m\u001b[38;5;241;43m=\u001b[39;49m\u001b[43mepochs\u001b[49m\u001b[43m,\u001b[49m\u001b[43m \u001b[49m\u001b[43mcallbacks\u001b[49m\u001b[38;5;241;43m=\u001b[39;49m\u001b[43m[\u001b[49m\u001b[43mPlotLossesKeras\u001b[49m\u001b[43m(\u001b[49m\u001b[43m)\u001b[49m\u001b[43m]\u001b[49m\u001b[43m,\u001b[49m\u001b[43m \u001b[49m\u001b[43mverbose\u001b[49m\u001b[38;5;241;43m=\u001b[39;49m\u001b[38;5;241;43m0\u001b[39;49m\u001b[43m)\u001b[49m\n",
      "File \u001b[1;32mc:\\Users\\zorko\\anaconda3\\envs\\IS460MLApps\\lib\\site-packages\\keras\\src\\utils\\traceback_utils.py:65\u001b[0m, in \u001b[0;36mfilter_traceback.<locals>.error_handler\u001b[1;34m(*args, **kwargs)\u001b[0m\n\u001b[0;32m     63\u001b[0m filtered_tb \u001b[38;5;241m=\u001b[39m \u001b[38;5;28;01mNone\u001b[39;00m\n\u001b[0;32m     64\u001b[0m \u001b[38;5;28;01mtry\u001b[39;00m:\n\u001b[1;32m---> 65\u001b[0m     \u001b[38;5;28;01mreturn\u001b[39;00m fn(\u001b[38;5;241m*\u001b[39margs, \u001b[38;5;241m*\u001b[39m\u001b[38;5;241m*\u001b[39mkwargs)\n\u001b[0;32m     66\u001b[0m \u001b[38;5;28;01mexcept\u001b[39;00m \u001b[38;5;167;01mException\u001b[39;00m \u001b[38;5;28;01mas\u001b[39;00m e:\n\u001b[0;32m     67\u001b[0m     filtered_tb \u001b[38;5;241m=\u001b[39m _process_traceback_frames(e\u001b[38;5;241m.\u001b[39m__traceback__)\n",
      "File \u001b[1;32mc:\\Users\\zorko\\anaconda3\\envs\\IS460MLApps\\lib\\site-packages\\keras\\src\\engine\\training.py:1807\u001b[0m, in \u001b[0;36mModel.fit\u001b[1;34m(self, x, y, batch_size, epochs, verbose, callbacks, validation_split, validation_data, shuffle, class_weight, sample_weight, initial_epoch, steps_per_epoch, validation_steps, validation_batch_size, validation_freq, max_queue_size, workers, use_multiprocessing)\u001b[0m\n\u001b[0;32m   1799\u001b[0m \u001b[38;5;28;01mwith\u001b[39;00m tf\u001b[38;5;241m.\u001b[39mprofiler\u001b[38;5;241m.\u001b[39mexperimental\u001b[38;5;241m.\u001b[39mTrace(\n\u001b[0;32m   1800\u001b[0m     \u001b[38;5;124m\"\u001b[39m\u001b[38;5;124mtrain\u001b[39m\u001b[38;5;124m\"\u001b[39m,\n\u001b[0;32m   1801\u001b[0m     epoch_num\u001b[38;5;241m=\u001b[39mepoch,\n\u001b[1;32m   (...)\u001b[0m\n\u001b[0;32m   1804\u001b[0m     _r\u001b[38;5;241m=\u001b[39m\u001b[38;5;241m1\u001b[39m,\n\u001b[0;32m   1805\u001b[0m ):\n\u001b[0;32m   1806\u001b[0m     callbacks\u001b[38;5;241m.\u001b[39mon_train_batch_begin(step)\n\u001b[1;32m-> 1807\u001b[0m     tmp_logs \u001b[38;5;241m=\u001b[39m \u001b[38;5;28;43mself\u001b[39;49m\u001b[38;5;241;43m.\u001b[39;49m\u001b[43mtrain_function\u001b[49m\u001b[43m(\u001b[49m\u001b[43miterator\u001b[49m\u001b[43m)\u001b[49m\n\u001b[0;32m   1808\u001b[0m     \u001b[38;5;28;01mif\u001b[39;00m data_handler\u001b[38;5;241m.\u001b[39mshould_sync:\n\u001b[0;32m   1809\u001b[0m         context\u001b[38;5;241m.\u001b[39masync_wait()\n",
      "File \u001b[1;32mc:\\Users\\zorko\\anaconda3\\envs\\IS460MLApps\\lib\\site-packages\\tensorflow\\python\\util\\traceback_utils.py:150\u001b[0m, in \u001b[0;36mfilter_traceback.<locals>.error_handler\u001b[1;34m(*args, **kwargs)\u001b[0m\n\u001b[0;32m    148\u001b[0m filtered_tb \u001b[38;5;241m=\u001b[39m \u001b[38;5;28;01mNone\u001b[39;00m\n\u001b[0;32m    149\u001b[0m \u001b[38;5;28;01mtry\u001b[39;00m:\n\u001b[1;32m--> 150\u001b[0m   \u001b[38;5;28;01mreturn\u001b[39;00m fn(\u001b[38;5;241m*\u001b[39margs, \u001b[38;5;241m*\u001b[39m\u001b[38;5;241m*\u001b[39mkwargs)\n\u001b[0;32m    151\u001b[0m \u001b[38;5;28;01mexcept\u001b[39;00m \u001b[38;5;167;01mException\u001b[39;00m \u001b[38;5;28;01mas\u001b[39;00m e:\n\u001b[0;32m    152\u001b[0m   filtered_tb \u001b[38;5;241m=\u001b[39m _process_traceback_frames(e\u001b[38;5;241m.\u001b[39m__traceback__)\n",
      "File \u001b[1;32mc:\\Users\\zorko\\anaconda3\\envs\\IS460MLApps\\lib\\site-packages\\tensorflow\\python\\eager\\polymorphic_function\\polymorphic_function.py:832\u001b[0m, in \u001b[0;36mFunction.__call__\u001b[1;34m(self, *args, **kwds)\u001b[0m\n\u001b[0;32m    829\u001b[0m compiler \u001b[38;5;241m=\u001b[39m \u001b[38;5;124m\"\u001b[39m\u001b[38;5;124mxla\u001b[39m\u001b[38;5;124m\"\u001b[39m \u001b[38;5;28;01mif\u001b[39;00m \u001b[38;5;28mself\u001b[39m\u001b[38;5;241m.\u001b[39m_jit_compile \u001b[38;5;28;01melse\u001b[39;00m \u001b[38;5;124m\"\u001b[39m\u001b[38;5;124mnonXla\u001b[39m\u001b[38;5;124m\"\u001b[39m\n\u001b[0;32m    831\u001b[0m \u001b[38;5;28;01mwith\u001b[39;00m OptionalXlaContext(\u001b[38;5;28mself\u001b[39m\u001b[38;5;241m.\u001b[39m_jit_compile):\n\u001b[1;32m--> 832\u001b[0m   result \u001b[38;5;241m=\u001b[39m \u001b[38;5;28mself\u001b[39m\u001b[38;5;241m.\u001b[39m_call(\u001b[38;5;241m*\u001b[39margs, \u001b[38;5;241m*\u001b[39m\u001b[38;5;241m*\u001b[39mkwds)\n\u001b[0;32m    834\u001b[0m new_tracing_count \u001b[38;5;241m=\u001b[39m \u001b[38;5;28mself\u001b[39m\u001b[38;5;241m.\u001b[39mexperimental_get_tracing_count()\n\u001b[0;32m    835\u001b[0m without_tracing \u001b[38;5;241m=\u001b[39m (tracing_count \u001b[38;5;241m==\u001b[39m new_tracing_count)\n",
      "File \u001b[1;32mc:\\Users\\zorko\\anaconda3\\envs\\IS460MLApps\\lib\\site-packages\\tensorflow\\python\\eager\\polymorphic_function\\polymorphic_function.py:868\u001b[0m, in \u001b[0;36mFunction._call\u001b[1;34m(self, *args, **kwds)\u001b[0m\n\u001b[0;32m    865\u001b[0m   \u001b[38;5;28mself\u001b[39m\u001b[38;5;241m.\u001b[39m_lock\u001b[38;5;241m.\u001b[39mrelease()\n\u001b[0;32m    866\u001b[0m   \u001b[38;5;66;03m# In this case we have created variables on the first call, so we run the\u001b[39;00m\n\u001b[0;32m    867\u001b[0m   \u001b[38;5;66;03m# defunned version which is guaranteed to never create variables.\u001b[39;00m\n\u001b[1;32m--> 868\u001b[0m   \u001b[38;5;28;01mreturn\u001b[39;00m \u001b[43mtracing_compilation\u001b[49m\u001b[38;5;241;43m.\u001b[39;49m\u001b[43mcall_function\u001b[49m\u001b[43m(\u001b[49m\n\u001b[0;32m    869\u001b[0m \u001b[43m      \u001b[49m\u001b[43margs\u001b[49m\u001b[43m,\u001b[49m\u001b[43m \u001b[49m\u001b[43mkwds\u001b[49m\u001b[43m,\u001b[49m\u001b[43m \u001b[49m\u001b[38;5;28;43mself\u001b[39;49m\u001b[38;5;241;43m.\u001b[39;49m\u001b[43m_no_variable_creation_config\u001b[49m\n\u001b[0;32m    870\u001b[0m \u001b[43m  \u001b[49m\u001b[43m)\u001b[49m\n\u001b[0;32m    871\u001b[0m \u001b[38;5;28;01melif\u001b[39;00m \u001b[38;5;28mself\u001b[39m\u001b[38;5;241m.\u001b[39m_variable_creation_config \u001b[38;5;129;01mis\u001b[39;00m \u001b[38;5;129;01mnot\u001b[39;00m \u001b[38;5;28;01mNone\u001b[39;00m:\n\u001b[0;32m    872\u001b[0m   \u001b[38;5;66;03m# Release the lock early so that multiple threads can perform the call\u001b[39;00m\n\u001b[0;32m    873\u001b[0m   \u001b[38;5;66;03m# in parallel.\u001b[39;00m\n\u001b[0;32m    874\u001b[0m   \u001b[38;5;28mself\u001b[39m\u001b[38;5;241m.\u001b[39m_lock\u001b[38;5;241m.\u001b[39mrelease()\n",
      "File \u001b[1;32mc:\\Users\\zorko\\anaconda3\\envs\\IS460MLApps\\lib\\site-packages\\tensorflow\\python\\eager\\polymorphic_function\\tracing_compilation.py:139\u001b[0m, in \u001b[0;36mcall_function\u001b[1;34m(args, kwargs, tracing_options)\u001b[0m\n\u001b[0;32m    137\u001b[0m bound_args \u001b[38;5;241m=\u001b[39m function\u001b[38;5;241m.\u001b[39mfunction_type\u001b[38;5;241m.\u001b[39mbind(\u001b[38;5;241m*\u001b[39margs, \u001b[38;5;241m*\u001b[39m\u001b[38;5;241m*\u001b[39mkwargs)\n\u001b[0;32m    138\u001b[0m flat_inputs \u001b[38;5;241m=\u001b[39m function\u001b[38;5;241m.\u001b[39mfunction_type\u001b[38;5;241m.\u001b[39munpack_inputs(bound_args)\n\u001b[1;32m--> 139\u001b[0m \u001b[38;5;28;01mreturn\u001b[39;00m \u001b[43mfunction\u001b[49m\u001b[38;5;241;43m.\u001b[39;49m\u001b[43m_call_flat\u001b[49m\u001b[43m(\u001b[49m\u001b[43m  \u001b[49m\u001b[38;5;66;43;03m# pylint: disable=protected-access\u001b[39;49;00m\n\u001b[0;32m    140\u001b[0m \u001b[43m    \u001b[49m\u001b[43mflat_inputs\u001b[49m\u001b[43m,\u001b[49m\u001b[43m \u001b[49m\u001b[43mcaptured_inputs\u001b[49m\u001b[38;5;241;43m=\u001b[39;49m\u001b[43mfunction\u001b[49m\u001b[38;5;241;43m.\u001b[39;49m\u001b[43mcaptured_inputs\u001b[49m\n\u001b[0;32m    141\u001b[0m \u001b[43m\u001b[49m\u001b[43m)\u001b[49m\n",
      "File \u001b[1;32mc:\\Users\\zorko\\anaconda3\\envs\\IS460MLApps\\lib\\site-packages\\tensorflow\\python\\eager\\polymorphic_function\\concrete_function.py:1323\u001b[0m, in \u001b[0;36mConcreteFunction._call_flat\u001b[1;34m(self, tensor_inputs, captured_inputs)\u001b[0m\n\u001b[0;32m   1319\u001b[0m possible_gradient_type \u001b[38;5;241m=\u001b[39m gradients_util\u001b[38;5;241m.\u001b[39mPossibleTapeGradientTypes(args)\n\u001b[0;32m   1320\u001b[0m \u001b[38;5;28;01mif\u001b[39;00m (possible_gradient_type \u001b[38;5;241m==\u001b[39m gradients_util\u001b[38;5;241m.\u001b[39mPOSSIBLE_GRADIENT_TYPES_NONE\n\u001b[0;32m   1321\u001b[0m     \u001b[38;5;129;01mand\u001b[39;00m executing_eagerly):\n\u001b[0;32m   1322\u001b[0m   \u001b[38;5;66;03m# No tape is watching; skip to running the function.\u001b[39;00m\n\u001b[1;32m-> 1323\u001b[0m   \u001b[38;5;28;01mreturn\u001b[39;00m \u001b[38;5;28;43mself\u001b[39;49m\u001b[38;5;241;43m.\u001b[39;49m\u001b[43m_inference_function\u001b[49m\u001b[38;5;241;43m.\u001b[39;49m\u001b[43mcall_preflattened\u001b[49m\u001b[43m(\u001b[49m\u001b[43margs\u001b[49m\u001b[43m)\u001b[49m\n\u001b[0;32m   1324\u001b[0m forward_backward \u001b[38;5;241m=\u001b[39m \u001b[38;5;28mself\u001b[39m\u001b[38;5;241m.\u001b[39m_select_forward_and_backward_functions(\n\u001b[0;32m   1325\u001b[0m     args,\n\u001b[0;32m   1326\u001b[0m     possible_gradient_type,\n\u001b[0;32m   1327\u001b[0m     executing_eagerly)\n\u001b[0;32m   1328\u001b[0m forward_function, args_with_tangents \u001b[38;5;241m=\u001b[39m forward_backward\u001b[38;5;241m.\u001b[39mforward()\n",
      "File \u001b[1;32mc:\\Users\\zorko\\anaconda3\\envs\\IS460MLApps\\lib\\site-packages\\tensorflow\\python\\eager\\polymorphic_function\\atomic_function.py:216\u001b[0m, in \u001b[0;36mAtomicFunction.call_preflattened\u001b[1;34m(self, args)\u001b[0m\n\u001b[0;32m    214\u001b[0m \u001b[38;5;28;01mdef\u001b[39;00m \u001b[38;5;21mcall_preflattened\u001b[39m(\u001b[38;5;28mself\u001b[39m, args: Sequence[core\u001b[38;5;241m.\u001b[39mTensor]) \u001b[38;5;241m-\u001b[39m\u001b[38;5;241m>\u001b[39m Any:\n\u001b[0;32m    215\u001b[0m \u001b[38;5;250m  \u001b[39m\u001b[38;5;124;03m\"\"\"Calls with flattened tensor inputs and returns the structured output.\"\"\"\u001b[39;00m\n\u001b[1;32m--> 216\u001b[0m   flat_outputs \u001b[38;5;241m=\u001b[39m \u001b[38;5;28;43mself\u001b[39;49m\u001b[38;5;241;43m.\u001b[39;49m\u001b[43mcall_flat\u001b[49m\u001b[43m(\u001b[49m\u001b[38;5;241;43m*\u001b[39;49m\u001b[43margs\u001b[49m\u001b[43m)\u001b[49m\n\u001b[0;32m    217\u001b[0m   \u001b[38;5;28;01mreturn\u001b[39;00m \u001b[38;5;28mself\u001b[39m\u001b[38;5;241m.\u001b[39mfunction_type\u001b[38;5;241m.\u001b[39mpack_output(flat_outputs)\n",
      "File \u001b[1;32mc:\\Users\\zorko\\anaconda3\\envs\\IS460MLApps\\lib\\site-packages\\tensorflow\\python\\eager\\polymorphic_function\\atomic_function.py:251\u001b[0m, in \u001b[0;36mAtomicFunction.call_flat\u001b[1;34m(self, *args)\u001b[0m\n\u001b[0;32m    249\u001b[0m \u001b[38;5;28;01mwith\u001b[39;00m record\u001b[38;5;241m.\u001b[39mstop_recording():\n\u001b[0;32m    250\u001b[0m   \u001b[38;5;28;01mif\u001b[39;00m \u001b[38;5;28mself\u001b[39m\u001b[38;5;241m.\u001b[39m_bound_context\u001b[38;5;241m.\u001b[39mexecuting_eagerly():\n\u001b[1;32m--> 251\u001b[0m     outputs \u001b[38;5;241m=\u001b[39m \u001b[38;5;28;43mself\u001b[39;49m\u001b[38;5;241;43m.\u001b[39;49m\u001b[43m_bound_context\u001b[49m\u001b[38;5;241;43m.\u001b[39;49m\u001b[43mcall_function\u001b[49m\u001b[43m(\u001b[49m\n\u001b[0;32m    252\u001b[0m \u001b[43m        \u001b[49m\u001b[38;5;28;43mself\u001b[39;49m\u001b[38;5;241;43m.\u001b[39;49m\u001b[43mname\u001b[49m\u001b[43m,\u001b[49m\n\u001b[0;32m    253\u001b[0m \u001b[43m        \u001b[49m\u001b[38;5;28;43mlist\u001b[39;49m\u001b[43m(\u001b[49m\u001b[43margs\u001b[49m\u001b[43m)\u001b[49m\u001b[43m,\u001b[49m\n\u001b[0;32m    254\u001b[0m \u001b[43m        \u001b[49m\u001b[38;5;28;43mlen\u001b[39;49m\u001b[43m(\u001b[49m\u001b[38;5;28;43mself\u001b[39;49m\u001b[38;5;241;43m.\u001b[39;49m\u001b[43mfunction_type\u001b[49m\u001b[38;5;241;43m.\u001b[39;49m\u001b[43mflat_outputs\u001b[49m\u001b[43m)\u001b[49m\u001b[43m,\u001b[49m\n\u001b[0;32m    255\u001b[0m \u001b[43m    \u001b[49m\u001b[43m)\u001b[49m\n\u001b[0;32m    256\u001b[0m   \u001b[38;5;28;01melse\u001b[39;00m:\n\u001b[0;32m    257\u001b[0m     outputs \u001b[38;5;241m=\u001b[39m make_call_op_in_graph(\n\u001b[0;32m    258\u001b[0m         \u001b[38;5;28mself\u001b[39m,\n\u001b[0;32m    259\u001b[0m         \u001b[38;5;28mlist\u001b[39m(args),\n\u001b[0;32m    260\u001b[0m         \u001b[38;5;28mself\u001b[39m\u001b[38;5;241m.\u001b[39m_bound_context\u001b[38;5;241m.\u001b[39mfunction_call_options\u001b[38;5;241m.\u001b[39mas_attrs(),\n\u001b[0;32m    261\u001b[0m     )\n",
      "File \u001b[1;32mc:\\Users\\zorko\\anaconda3\\envs\\IS460MLApps\\lib\\site-packages\\tensorflow\\python\\eager\\context.py:1486\u001b[0m, in \u001b[0;36mContext.call_function\u001b[1;34m(self, name, tensor_inputs, num_outputs)\u001b[0m\n\u001b[0;32m   1484\u001b[0m cancellation_context \u001b[38;5;241m=\u001b[39m cancellation\u001b[38;5;241m.\u001b[39mcontext()\n\u001b[0;32m   1485\u001b[0m \u001b[38;5;28;01mif\u001b[39;00m cancellation_context \u001b[38;5;129;01mis\u001b[39;00m \u001b[38;5;28;01mNone\u001b[39;00m:\n\u001b[1;32m-> 1486\u001b[0m   outputs \u001b[38;5;241m=\u001b[39m \u001b[43mexecute\u001b[49m\u001b[38;5;241;43m.\u001b[39;49m\u001b[43mexecute\u001b[49m\u001b[43m(\u001b[49m\n\u001b[0;32m   1487\u001b[0m \u001b[43m      \u001b[49m\u001b[43mname\u001b[49m\u001b[38;5;241;43m.\u001b[39;49m\u001b[43mdecode\u001b[49m\u001b[43m(\u001b[49m\u001b[38;5;124;43m\"\u001b[39;49m\u001b[38;5;124;43mutf-8\u001b[39;49m\u001b[38;5;124;43m\"\u001b[39;49m\u001b[43m)\u001b[49m\u001b[43m,\u001b[49m\n\u001b[0;32m   1488\u001b[0m \u001b[43m      \u001b[49m\u001b[43mnum_outputs\u001b[49m\u001b[38;5;241;43m=\u001b[39;49m\u001b[43mnum_outputs\u001b[49m\u001b[43m,\u001b[49m\n\u001b[0;32m   1489\u001b[0m \u001b[43m      \u001b[49m\u001b[43minputs\u001b[49m\u001b[38;5;241;43m=\u001b[39;49m\u001b[43mtensor_inputs\u001b[49m\u001b[43m,\u001b[49m\n\u001b[0;32m   1490\u001b[0m \u001b[43m      \u001b[49m\u001b[43mattrs\u001b[49m\u001b[38;5;241;43m=\u001b[39;49m\u001b[43mattrs\u001b[49m\u001b[43m,\u001b[49m\n\u001b[0;32m   1491\u001b[0m \u001b[43m      \u001b[49m\u001b[43mctx\u001b[49m\u001b[38;5;241;43m=\u001b[39;49m\u001b[38;5;28;43mself\u001b[39;49m\u001b[43m,\u001b[49m\n\u001b[0;32m   1492\u001b[0m \u001b[43m  \u001b[49m\u001b[43m)\u001b[49m\n\u001b[0;32m   1493\u001b[0m \u001b[38;5;28;01melse\u001b[39;00m:\n\u001b[0;32m   1494\u001b[0m   outputs \u001b[38;5;241m=\u001b[39m execute\u001b[38;5;241m.\u001b[39mexecute_with_cancellation(\n\u001b[0;32m   1495\u001b[0m       name\u001b[38;5;241m.\u001b[39mdecode(\u001b[38;5;124m\"\u001b[39m\u001b[38;5;124mutf-8\u001b[39m\u001b[38;5;124m\"\u001b[39m),\n\u001b[0;32m   1496\u001b[0m       num_outputs\u001b[38;5;241m=\u001b[39mnum_outputs,\n\u001b[1;32m   (...)\u001b[0m\n\u001b[0;32m   1500\u001b[0m       cancellation_manager\u001b[38;5;241m=\u001b[39mcancellation_context,\n\u001b[0;32m   1501\u001b[0m   )\n",
      "File \u001b[1;32mc:\\Users\\zorko\\anaconda3\\envs\\IS460MLApps\\lib\\site-packages\\tensorflow\\python\\eager\\execute.py:53\u001b[0m, in \u001b[0;36mquick_execute\u001b[1;34m(op_name, num_outputs, inputs, attrs, ctx, name)\u001b[0m\n\u001b[0;32m     51\u001b[0m \u001b[38;5;28;01mtry\u001b[39;00m:\n\u001b[0;32m     52\u001b[0m   ctx\u001b[38;5;241m.\u001b[39mensure_initialized()\n\u001b[1;32m---> 53\u001b[0m   tensors \u001b[38;5;241m=\u001b[39m \u001b[43mpywrap_tfe\u001b[49m\u001b[38;5;241;43m.\u001b[39;49m\u001b[43mTFE_Py_Execute\u001b[49m\u001b[43m(\u001b[49m\u001b[43mctx\u001b[49m\u001b[38;5;241;43m.\u001b[39;49m\u001b[43m_handle\u001b[49m\u001b[43m,\u001b[49m\u001b[43m \u001b[49m\u001b[43mdevice_name\u001b[49m\u001b[43m,\u001b[49m\u001b[43m \u001b[49m\u001b[43mop_name\u001b[49m\u001b[43m,\u001b[49m\n\u001b[0;32m     54\u001b[0m \u001b[43m                                      \u001b[49m\u001b[43minputs\u001b[49m\u001b[43m,\u001b[49m\u001b[43m \u001b[49m\u001b[43mattrs\u001b[49m\u001b[43m,\u001b[49m\u001b[43m \u001b[49m\u001b[43mnum_outputs\u001b[49m\u001b[43m)\u001b[49m\n\u001b[0;32m     55\u001b[0m \u001b[38;5;28;01mexcept\u001b[39;00m core\u001b[38;5;241m.\u001b[39m_NotOkStatusException \u001b[38;5;28;01mas\u001b[39;00m e:\n\u001b[0;32m     56\u001b[0m   \u001b[38;5;28;01mif\u001b[39;00m name \u001b[38;5;129;01mis\u001b[39;00m \u001b[38;5;129;01mnot\u001b[39;00m \u001b[38;5;28;01mNone\u001b[39;00m:\n",
      "\u001b[1;31mKeyboardInterrupt\u001b[0m: "
     ]
    }
   ],
   "source": [
    "from tensorflow.keras.callbacks import EarlyStopping\n",
    "from livelossplot import PlotLossesKeras\n",
    "\n",
    "# Train the model\n",
    "batch_size = 16\n",
    "epochs = 500\n",
    "\n",
    "# Set up early stopping callback\n",
    "\n",
    "early_stopping = EarlyStopping(monitor='val_loss', patience=10, restore_best_weights=True)\n",
    "model.fit(X_train, y_train, validation_data=(X_val, y_val), batch_size=batch_size, epochs=epochs, callbacks=[PlotLossesKeras()], verbose=0)\n",
    "# model.fit(X_train, y_train, validation_data=(X_val, y_val), batch_size=batch_size, epochs=epochs, callbacks=[early_stopping])"
   ]
  },
  {
   "cell_type": "code",
   "execution_count": 25,
   "metadata": {},
   "outputs": [],
   "source": [
    "import sys\n",
    "sys.path.append(\"d:\\\\SMU\\\\ml&applns\")\n",
    "\n",
    "from Preprocessing.Video_Preprocessing import VideoPreprocessing\n",
    "from Preprocessing.DFTransformations import *\n",
    "from Preprocessing.DataExtration import *\n",
    "from Preprocessing.Average_parquet import Averager\n",
    "from sklearn.preprocessing import LabelBinarizer, StandardScaler\n",
    "\n",
    "import pandas as pd\n",
    "import numpy as np\n",
    "import warnings\n",
    "import pickle\n",
    "\n",
    "class Pipeline():\n",
    "\n",
    "    def __init__(self, path_to_video) -> None:\n",
    "        self.frames_target = 65\n",
    "        self.duplicate = True\n",
    "        self.remove_points = True\n",
    "\n",
    "        with open('../Preprocessing/standard_scaler.pkl', 'rb') as f:\n",
    "            self.scaler = pickle.load(f)\n",
    "\n",
    "        data = VideoPreprocessing().process_video(path_to_video)\n",
    "        self.data = Averager(data).average_pf()\n",
    "        pass\n",
    "\n",
    "    def process_input(self) -> np.ndarray:\n",
    "        self.data_restructuring()\n",
    "        self.data_statistics()\n",
    "        return self.data\n",
    "\n",
    "    def data_restructuring(self) -> None:\n",
    "        video_data = self.data\n",
    "\n",
    "        # Remove all rows with the type of face\n",
    "        video_data = video_data.drop(video_data.loc[video_data.type==\"face\"].index)\n",
    "\n",
    "        # Replace all NaN values with 0\n",
    "        video_data = video_data.fillna(0)\n",
    "\n",
    "        video_data = transform_data(video_data, self.frames_target, self.duplicate, self.remove_points)\n",
    "        self.data = video_data\n",
    "\n",
    "    def data_statistics(self) -> None:\n",
    "        video_data = self.data\n",
    "\n",
    "        video_data = video_data.sort_values('type')\n",
    "\n",
    "        if self.remove_points:\n",
    "            with warnings.catch_warnings():\n",
    "                warnings.simplefilter(\"ignore\")\n",
    "                video_data = calc_stats_types(video_data)\n",
    "        else:\n",
    "            video_data = calculate_stats(video_data)\n",
    "\n",
    "        if not self.duplicate:\n",
    "            frame_num = video_data.shape[0]\n",
    "            if frame_num != self.frames_target:\n",
    "                pad = np.zeros(shape=((self.frames_target - frame_num), video_data.shape[1]))\n",
    "                video_data = np.concatenate((video_data, pad), axis=0)\n",
    "\n",
    "        video_data = np.array(video_data)\n",
    "        video_data = np.reshape(video_data, (1, 65, 120))\n",
    "        \n",
    "        # Scaling the data\n",
    "        video_data_std = video_data.reshape(video_data.shape[0], -1)\n",
    "        video_data_std = self.scaler.fit_transform(video_data_std)\n",
    "        video_data = video_data_std.reshape(video_data.shape)\n",
    "\n",
    "        self.data = video_data"
   ]
  },
  {
   "cell_type": "code",
   "execution_count": 27,
   "metadata": {},
   "outputs": [],
   "source": [
    "import cv2\n",
    "import os\n",
    "import numpy as np\n",
    "import mediapipe as mp\n",
    "import pandas as pd\n",
    "from Preprocessing.mp_support import mediapipe_detection, draw_landmarks, draw_styled_landmarks, extract_keypoints, extract_coordinates, prob_viz\n",
    "\n",
    "class VideoPreprocessing():\n",
    "\n",
    "    def __init__(self) -> None:\n",
    "        self.savepath = \"../Pipeline/video\"\n",
    "        self.clean_folder()\n",
    "        pass\n",
    "\n",
    "    def clean_folder(self) -> None:\n",
    "        # Get a list of all files in the folder\n",
    "        files = os.listdir(self.savepath)\n",
    "\n",
    "        # Iterate over the files and remove each one\n",
    "        for file in files:\n",
    "            file_path = os.path.join(self.savepath, file)\n",
    "            os.remove(file_path)\n",
    "\n",
    "    def process_video(self, video_path) -> pd.DataFrame:\n",
    "        self.extract_frames_data(video_path)\n",
    "        return self.convert_to_df()\n",
    "\n",
    "    def extract_frames_data(self, path) -> None:\n",
    "        extract_coordinates(path, self.savepath)\n",
    "\n",
    "    def convert_to_df(self) -> pd.DataFrame:\n",
    "\n",
    "        # create empty data frame\n",
    "        df = pd.DataFrame(columns=['frame', 'row_id', 'type', 'landmark_index', 'x', 'y', 'z'])\n",
    "        \n",
    "        frame_counter = 1 \n",
    "        \n",
    "        # for video\n",
    "        for frame in os.listdir(self.savepath):\n",
    "            \n",
    "            frame_path = os.path.join(self.savepath, frame)\n",
    "            \n",
    "            with open(frame_path, 'rb') as file:\n",
    "                npy_data = np.load(file)\n",
    "            \n",
    "                # scan through npy file and add data to df in batches of 3\n",
    "                local_count = 1\n",
    "                for j in range(0, 99, 3):\n",
    "                    new_row = pd.Series({'frame': frame_counter, 'row_id': f\"{frame_counter}-pose-{local_count}\", 'type': 'pose', 'landmark_index': local_count, 'x': npy_data[j], 'y': npy_data[j+1], 'z': npy_data[j+2]})\n",
    "                    \n",
    "                    df = pd.concat([df, new_row.to_frame().T], ignore_index = True, axis = 0)\n",
    "                    \n",
    "                    local_count += 1\n",
    "                \n",
    "                local_count = 1\n",
    "                for j in range(99, 162, 3):\n",
    "                    new_row = pd.Series({'frame': frame_counter, 'row_id': f\"{frame_counter}-left_hand-{local_count}\", 'type': 'left_hand', 'landmark_index': local_count, 'x': npy_data[j], 'y': npy_data[j+1], 'z': npy_data[j+2]})\n",
    "                    \n",
    "                    df = pd.concat([df, new_row.to_frame().T], ignore_index = True, axis = 0)\n",
    "                    \n",
    "                    local_count += 1\n",
    "                \n",
    "                local_count = 1\n",
    "                for j in range(162, 225, 3):\n",
    "                    new_row = pd.Series({'frame': frame_counter, 'row_id': f\"{frame_counter}-right_hand-{local_count}\", 'type': 'right_hand', 'landmark_index': local_count, 'x': npy_data[j], 'y': npy_data[j+1], 'z': npy_data[j+2]})\n",
    "                    \n",
    "                    df = pd.concat([df, new_row.to_frame().T], ignore_index = True, axis = 0)\n",
    "                    \n",
    "                    local_count += 1\n",
    "                \n",
    "            frame_counter += 1\n",
    "        \n",
    "        return df"
   ]
  },
  {
   "cell_type": "code",
   "execution_count": 39,
   "metadata": {},
   "outputs": [
    {
     "name": "stdout",
     "output_type": "stream",
     "text": [
      "1/1 [==============================] - 0s 15ms/step\n",
      "1/1 [==============================] - 0s 36ms/step\n",
      "1/1 [==============================] - 0s 16ms/step\n",
      "1/1 [==============================] - 0s 32ms/step\n",
      "1/1 [==============================] - 0s 25ms/step\n",
      "1/1 [==============================] - 0s 16ms/step\n",
      "1/1 [==============================] - 0s 21ms/step\n",
      "1/1 [==============================] - 0s 21ms/step\n",
      "1/1 [==============================] - 0s 23ms/step\n",
      "1/1 [==============================] - 0s 32ms/step\n",
      "1/1 [==============================] - 0s 16ms/step\n",
      "1/1 [==============================] - 0s 37ms/step\n",
      "1/1 [==============================] - 0s 16ms/step\n",
      "1/1 [==============================] - 0s 27ms/step\n",
      "1/1 [==============================] - 0s 31ms/step\n",
      "1/1 [==============================] - 0s 16ms/step\n",
      "1/1 [==============================] - 0s 20ms/step\n",
      "1/1 [==============================] - 0s 16ms/step\n",
      "1/1 [==============================] - 0s 31ms/step\n",
      "1/1 [==============================] - 0s 16ms/step\n"
     ]
    }
   ],
   "source": [
    "folders = [\"Good\",\"Show\",\"We\",\"Work\"]\n",
    "predictions = []\n",
    "labels = []\n",
    "\n",
    "for folder in folders:\n",
    "    for i in range(5):\n",
    "        path_to_video = f\"../{folder}/{folder}{i+1}.mp4\"\n",
    "        label = folder\n",
    "\n",
    "        test = Pipeline(path_to_video).process_input()\n",
    "        prediction = model.predict(test)\n",
    "        prediction = encoder.inverse_transform(prediction)\n",
    "\n",
    "        predictions.append(prediction)\n",
    "        labels.append(label)\n"
   ]
  },
  {
   "cell_type": "code",
   "execution_count": 41,
   "metadata": {},
   "outputs": [
    {
     "data": {
      "text/plain": [
       "array(['bye', 'bye', 'bye', 'bye', 'bye', 'bye', 'bye', 'bye', 'bye',\n",
       "       'bye', 'bye', 'bye', 'bye', 'bye', 'bye', 'bye', 'bye', 'bye',\n",
       "       'bye', 'bye'], dtype='<U8')"
      ]
     },
     "execution_count": 41,
     "metadata": {},
     "output_type": "execute_result"
    }
   ],
   "source": [
    "np.concatenate(predictions)"
   ]
  },
  {
   "cell_type": "code",
   "execution_count": 38,
   "metadata": {},
   "outputs": [
    {
     "name": "stdout",
     "output_type": "stream",
     "text": [
      "1/1 [==============================] - 0s 33ms/step\n",
      "['bye']\n",
      "show/\n"
     ]
    }
   ],
   "source": [
    "path_to_video = \"../We/We3.mp4\"\n",
    "label = \"show/\"\n",
    "\n",
    "test = Pipeline(path_to_video).process_input()\n",
    "prediction = model.predict(test)\n",
    "print(encoder.inverse_transform(prediction))\n",
    "print(label)"
   ]
  },
  {
   "cell_type": "code",
   "execution_count": null,
   "metadata": {},
   "outputs": [],
   "source": [
    "loss, accuracy = model.evaluate(X_test, y_test, batch_size=batch_size)\n",
    "print(f'Test Loss: {loss}, Test Accuracy: {accuracy}')"
   ]
  },
  {
   "cell_type": "code",
   "execution_count": null,
   "metadata": {},
   "outputs": [],
   "source": [
    "loss, accuracy = model.evaluate(X_val, y_val, batch_size=batch_size)\n",
    "print(f'Test Loss: {loss}, Test Accuracy: {accuracy}')"
   ]
  },
  {
   "cell_type": "code",
   "execution_count": null,
   "metadata": {},
   "outputs": [],
   "source": [
    "loss, accuracy = model.evaluate(X_train, y_train, batch_size=batch_size)\n",
    "print(f'Test Loss: {loss}, Test Accuracy: {accuracy}')"
   ]
  },
  {
   "cell_type": "code",
   "execution_count": null,
   "metadata": {},
   "outputs": [],
   "source": [
    "x_all = np.concatenate([X_train, X_val])\n",
    "y_all = np.concatenate([y_train, y_val])"
   ]
  },
  {
   "cell_type": "code",
   "execution_count": null,
   "metadata": {},
   "outputs": [],
   "source": [
    "loss, accuracy = model.evaluate(x_all, y_all, batch_size=batch_size)\n",
    "print(f'Test Loss: {loss}, Test Accuracy: {accuracy}')"
   ]
  },
  {
   "cell_type": "code",
   "execution_count": null,
   "metadata": {},
   "outputs": [],
   "source": []
  }
 ],
 "metadata": {
  "kernelspec": {
   "display_name": "IS460MLApps",
   "language": "python",
   "name": "python3"
  },
  "language_info": {
   "codemirror_mode": {
    "name": "ipython",
    "version": 3
   },
   "file_extension": ".py",
   "mimetype": "text/x-python",
   "name": "python",
   "nbconvert_exporter": "python",
   "pygments_lexer": "ipython3",
   "version": "3.10.13"
  }
 },
 "nbformat": 4,
 "nbformat_minor": 2
}
